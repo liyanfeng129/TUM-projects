{
 "cells": [
  {
   "cell_type": "markdown",
   "metadata": {
    "id": "g6vUCiE_N5eU"
   },
   "source": [
    "# Cifar10 Classification"
   ]
  },
  {
   "cell_type": "markdown",
   "metadata": {
    "id": "X9ridWdTN5eY"
   },
   "source": [
    "Until now, we have implemented several pieces of a deep learning pipeline and trained a two-layer neural network, but all hyperparameters were pre-set to values yielding resonable results. However, in real problems a large part of the work will be geared towards finding the best hyperparameter settings for a certain problem. In this notebook we will explore some good practices for network debugging and hyperparameters search, as well as extending our binary classification neural network to a multi-class one.\n",
    "\n",
    "Let's go!\n",
    "\n",
    "**Note 1**: This exercise is quite heavy with computations. We recommend using Google-Colab.\n",
    "\n",
    "**Note 2**: This exercise take time, so start early!!"
   ]
  },
  {
   "cell_type": "markdown",
   "metadata": {
    "id": "4sTNILP7OCzb"
   },
   "source": [
    "## (Optional) Mount folder in Colab\n",
    "\n",
    "Uncomment the following cell to mount your gdrive if you are using the notebook in google colab:"
   ]
  },
  {
   "cell_type": "code",
   "execution_count": null,
   "metadata": {
    "colab": {
     "base_uri": "https://localhost:8080/"
    },
    "executionInfo": {
     "elapsed": 35664,
     "status": "ok",
     "timestamp": 1650011700447,
     "user": {
      "displayName": "Weber Anna",
      "userId": "18154618360144454414"
     },
     "user_tz": -120
    },
    "id": "PoG-5okpOPht",
    "outputId": "a670ffa3-ee59-4ef5-e323-3f3fec373486"
   },
   "outputs": [],
   "source": [
    "\"\"\"\n",
    "from google.colab import drive\n",
    "import os\n",
    "\n",
    "gdrive_path='/content/gdrive/MyDrive/i2dl/exercise_06'\n",
    "\n",
    "# This will mount your google drive under 'MyDrive'\n",
    "drive.mount('/content/gdrive', force_remount=True)\n",
    "# In order to access the files in this notebook we have to navigate to the correct folder\n",
    "os.chdir(gdrive_path)\n",
    "# Check manually if all files are present\n",
    "print(sorted(os.listdir()))\n",
    "\"\"\""
   ]
  },
  {
   "cell_type": "code",
   "execution_count": 27,
   "metadata": {
    "id": "JZmN1ATIN5eY",
    "tags": []
   },
   "outputs": [
    {
     "name": "stdout",
     "output_type": "stream",
     "text": [
      "The autoreload extension is already loaded. To reload it, use:\n",
      "  %reload_ext autoreload\n"
     ]
    }
   ],
   "source": [
    "# Some lengthy setup.\n",
    "import matplotlib.pyplot as plt\n",
    "import numpy as np\n",
    "import os\n",
    "import urllib.request\n",
    "\n",
    "from exercise_code.networks.layer import (\n",
    "    Sigmoid, \n",
    "    Relu, \n",
    "    LeakyRelu, \n",
    "    Tanh,\n",
    ")\n",
    "from exercise_code.data import (\n",
    "    DataLoader,\n",
    "    ImageFolderDataset,\n",
    "    MemoryImageFolderDataset,\n",
    "    RescaleTransform,\n",
    "    NormalizeTransform,\n",
    "    FlattenTransform,\n",
    "    ComposeTransform,\n",
    ")\n",
    "from exercise_code.data.image_folder_dataset import RandomHorizontalFlip\n",
    "from exercise_code.networks import (\n",
    "    ClassificationNet,\n",
    "    BCE,\n",
    "    CrossEntropyFromLogits\n",
    ")\n",
    "\n",
    "%load_ext autoreload\n",
    "%autoreload 2\n",
    "%matplotlib inline\n",
    "\n",
    "plt.rcParams['figure.figsize'] = (10.0, 8.0) # set default size of plots\n",
    "plt.rcParams['image.interpolation'] = 'nearest'\n",
    "plt.rcParams['image.cmap'] = 'gray'\n",
    "os.environ['KMP_DUPLICATE_LIB_OK']='True' # To prevent the kernel from dying."
   ]
  },
  {
   "cell_type": "markdown",
   "metadata": {
    "id": "tRdaBwnMN5ea"
   },
   "source": [
    "# 1. Quick recap (and some new things)"
   ]
  },
  {
   "cell_type": "markdown",
   "metadata": {
    "id": "zsNrBTkyN5eb"
   },
   "source": [
    "Until now, in the previous exercises, we focused on building and understanding all the necessary modules for training a simple model. We followed the Pytorch implementations closely, as this is the framework we will use later and we wanted you to have a smoother transition to its APIs. \n",
    "\n",
    "In the figure below you can see the main components in Pytorch. Let's start with a quick recap of **our implementation** of these components. \n",
    "\n",
    "<div class=\"alert alert-success\">\n",
    "    <h3>Task: Check Code</h3>\n",
    "    <p>Everything is already implemented for this part, but we <b>strongly</b> encourage you to check  the respective source files in order to have a better understanding. </p>\n",
    "</div>"
   ]
  },
  {
   "cell_type": "markdown",
   "metadata": {
    "id": "reTr9-VRN5ec"
   },
   "source": [
    "<img src=\"https://cdn-images-1.medium.com/max/800/1*uZrS4KjAuSJQIJPgOiaJUg.png\" style=\"width: 500px;\">"
   ]
  },
  {
   "cell_type": "markdown",
   "metadata": {
    "id": "4fZoL6hvN5ec"
   },
   "source": [
    "## 1.1 Dataset and Dataloader"
   ]
  },
  {
   "cell_type": "markdown",
   "metadata": {
    "id": "jvv1QqmJN5ed"
   },
   "source": [
    "Data preparation is an important part of deep learning projects. Because the data can come in different formats and from different sources, it must be prepared in a certain way, which depends on the application. One part, however, is uniform: since an entire dataset is usually too large to handle at once, we train our models on smaller batches of data. \n",
    "\n",
    "The goal of the ```Dataset``` class is to encapsulate all the 'dirty' data processing: loading and cleaning the data, storing features (or names of files where features can be found) and labels, as well as providing the means for accessing individual (transformed) items of the data using the ```__getitem__()``` function and an index. You already implemented an ```ImageFolderDataset``` (in ```exercise_code/data/image_folder_dataset.py```) class in Exercise 3. We we will reuse this class here.\n",
    "\n",
    "For processing the data, you implemented several transforms in Exercise 3 (```RescaleTransform```, ```NormalizeTransform```, ```ComposeTransform```). In this exercise we are working with images, which are multidimensional arrays, but we are using a simple feedforward neural network which takes an one dimensional array as an input, so it is necessary to reshape the images before feeding them into the model. \n",
    "\n",
    "<div class=\"alert alert-success\">\n",
    "    <h3>Task: Check Code</h3>\n",
    "    <p>Please check the implementation of the reshape operation in the <code>FlattenTransform</code> class, which can be found in <code>../exercise_06/exercise_code/data/image_folder_dataset.py</code>. </p>\n",
    "</div>"
   ]
  },
  {
   "cell_type": "code",
   "execution_count": 2,
   "metadata": {
    "tags": []
   },
   "outputs": [],
   "source": [
    "download_url = \"https://i2dl.vc.in.tum.de/static/data/cifar10.zip\"\n",
    "i2dl_exercises_path = os.path.dirname(os.path.abspath(os.getcwd()))\n",
    "cifar_root = os.path.join(i2dl_exercises_path, \"datasets\", \"cifar10\")"
   ]
  },
  {
   "cell_type": "markdown",
   "metadata": {},
   "source": [
    "## The usual memory vs local data warning\n",
    "If you are using google colab or store your files on a local HDD, iterating over dataset takes quite some time and blablabla. You know the drill by now ;).\n",
    "\n",
    "<div class=\"alert alert-danger\">\n",
    "    <h3>Warning</h3>\n",
    "    <p>Loading the whole dataset into memory will not work if you are using a machine with 4GB of RAM or less (depending on your other programs such as memory hungry web browsers). Consider closing some open programs or simply use the local on-demand ImageFolderDataset.</p>\n",
    "    <p>In addition we want to warn you that everytime you execute a cell like \"dataset2 = MemoryImageFolderDataset...\" you are loading a 1.2GB matrix into your memory. If you do this often enough this notebook will crash on every machine. Therefore, we make sure to always use a single variable \"dataset\" which will be overwritten by future cells to avoid straining your memory too much.</p>\n",
    "</div>"
   ]
  },
  {
   "cell_type": "code",
   "execution_count": 3,
   "metadata": {
    "tags": []
   },
   "outputs": [],
   "source": [
    "# Choose your preferred dataset here\n",
    "\n",
    "# DATASET = ImageFolderDataset\n",
    "DATASET = MemoryImageFolderDataset"
   ]
  },
  {
   "cell_type": "markdown",
   "metadata": {},
   "source": [
    "Now that that is taken care of, back to the actual loading."
   ]
  },
  {
   "cell_type": "code",
   "execution_count": 4,
   "metadata": {
    "id": "2fHY8xTPN5ee",
    "tags": []
   },
   "outputs": [],
   "source": [
    "# Use the Cifar10 mean and standard deviation computed in Exercise 3.\n",
    "cifar_mean = np.array([0.49191375, 0.48235852, 0.44673872])\n",
    "cifar_std  = np.array([0.24706447, 0.24346213, 0.26147554])\n",
    "\n",
    "# Define all the transforms we will apply on the images when \n",
    "# retrieving them.\n",
    "rescale_transform = RescaleTransform()\n",
    "normalize_transform = NormalizeTransform(\n",
    "    mean=cifar_mean,\n",
    "    std=cifar_std\n",
    ")\n",
    "flatten_transform = FlattenTransform()\n",
    "compose_transform = ComposeTransform([rescale_transform, \n",
    "                                      normalize_transform,\n",
    "                                      flatten_transform])\n",
    "\n",
    "# Create a train, validation and test dataset.\n",
    "datasets = {}\n",
    "for mode in ['train', 'val', 'test']:\n",
    "    crt_dataset = DATASET(\n",
    "        mode=mode,\n",
    "        root=cifar_root, \n",
    "        transform=compose_transform,\n",
    "        split={'train': 0.6, 'val': 0.2, 'test': 0.2}\n",
    "    )\n",
    "    datasets[mode] = crt_dataset"
   ]
  },
  {
   "cell_type": "markdown",
   "metadata": {
    "id": "FsR4dM2kN5ee"
   },
   "source": [
    "Then, based on this ```Dataset``` object, we can construct a ```Dataloader``` object which samples a random mini-batch of data at once. "
   ]
  },
  {
   "cell_type": "code",
   "execution_count": 5,
   "metadata": {
    "id": "3t4Xj_n3N5ef",
    "tags": []
   },
   "outputs": [],
   "source": [
    "# Create a dataloader for each split.\n",
    "dataloaders = {}\n",
    "for mode in ['train', 'val', 'test']:\n",
    "    crt_dataloader = DataLoader(\n",
    "        dataset=datasets[mode],\n",
    "        batch_size=256,\n",
    "        shuffle=True,\n",
    "        drop_last=True,\n",
    "    )\n",
    "    dataloaders[mode] = crt_dataloader"
   ]
  },
  {
   "cell_type": "markdown",
   "metadata": {
    "id": "CpruSFLkN5ef"
   },
   "source": [
    "Because the ```Dataloader``` has the ```__iter__()``` method, we can simply iterate through the batches it produces, like this:\n",
    "\n",
    "```python\n",
    "for batch in dataloader['train']:\n",
    "    do_something(batch)\n",
    "```"
   ]
  },
  {
   "cell_type": "markdown",
   "metadata": {
    "id": "L81EGyslN5eg"
   },
   "source": [
    "## 1.2 Data Augmentation\n",
    "\n",
    "After the preprocessing steps, our data is in a good shape and ready to be fed into our network. As explained in the chapter above, we used the transformation functions `RescaleTransform`, `NormalizeTransform` and `FlattenTransform` to achieve this shape. These are the general steps that you need to perform on the data before you can start training. Of course, all these steps have to be applied to our three dataset splits (train, val and test split). In other words, preprocessing involves preparing the data before is can be used for training and inference. \n",
    "\n",
    "Besides these basic transformations, there are many other transformation methods that you can apply to the images. For example, you can <b>flip the images horizontally</b> or <b>blur the images</b> and use these new images to enlarge the dataset. This idea is called Data Augmentation and it involves methods that alter the training images to generate a synthetic dataset that is larger than your original dataset. This will hopefully improve the performance of your model. There is one important difference between data augmentation and data preprocessing: The transformation methods used to enlarge your dataset should only be applied to the training data. The validation and test data should not be affected by these methods.\n",
    "\n",
    "<div class=\"alert alert-success\">\n",
    "    <h3>Task: Check Code</h3>\n",
    "    <p>The choice of transformation methods for data augmentation can be seen as a hyperparameter of your model. You can try to include these to enlarge your training data and obtain better results for your model. In <code>exercise_code/data/image_folder_dataset.py</code> we implemented the function <code>RandomHorizontalFlip</code> for you, which is randomly flipping an image horizontally. Check out the implementation.</p>\n",
    "    <p> Later, we will perform hyperparameter tuning. In order to improve your model's performance, you can include some other data augmentation methods. Feel free to play around and to implement other methods as for example Gaussian Blur or Rotation. </p>       \n",
    "</div>\n",
    "\n",
    "Let us quickly check the `RandomHorizontalFlip` method with an image of the Cifar10 dataset in the following cell."
   ]
  },
  {
   "cell_type": "code",
   "execution_count": 6,
   "metadata": {
    "colab": {
     "base_uri": "https://localhost:8080/",
     "height": 98
    },
    "executionInfo": {
     "elapsed": 962,
     "status": "ok",
     "timestamp": 1650011739465,
     "user": {
      "displayName": "Weber Anna",
      "userId": "18154618360144454414"
     },
     "user_tz": -120
    },
    "id": "3BEjmTGHN5eg",
    "outputId": "a6adee5b-1dd4-436c-e811-952f4ae12e5f",
    "tags": []
   },
   "outputs": [
    {
     "data": {
      "image/png": "[encoded data removed]",
      "text/plain": [
       "<Figure size 200x200 with 2 Axes>"
      ]
     },
     "metadata": {},
     "output_type": "display_data"
    }
   ],
   "source": [
    "#Load the data in a dataset without any transformation \n",
    "dataset = DATASET(\n",
    "        mode=mode,\n",
    "        root=cifar_root, \n",
    "        download_url=download_url,\n",
    "        split={'train': 0.6, 'val': 0.2, 'test': 0.2},\n",
    "    )\n",
    "\n",
    "#Retrieve an image from the dataset and flip it\n",
    "image = dataset[1]['image']\n",
    "transform = RandomHorizontalFlip(1)\n",
    "image_flipped = transform(image)\n",
    "\n",
    "#Show the two images\n",
    "plt.figure(figsize = (2,2))\n",
    "plt.subplot(1, 2, 1)\n",
    "plt.imshow(image.astype('uint8'))\n",
    "plt.axis('off')\n",
    "plt.subplot(1, 2, 2)\n",
    "plt.imshow(image_flipped.astype('uint8'))\n",
    "plt.axis('off')\n",
    "plt.title(\"Left: Original Image, Right: Flipped image\")\n",
    "plt.show()"
   ]
  },
  {
   "cell_type": "markdown",
   "metadata": {
    "id": "WKNRU4BWN5eg"
   },
   "source": [
    "## 1.3 Layers\n",
    "\n",
    "Now, that the data is prepared, we can take a look at the model we are using. In our case it will be a neural network. \n",
    "\n",
    "In Exercise 5, you implemented a simple 2-layer neural network that had a hidden size as a parameter:\n",
    "\n",
    "$$ \n",
    "{\\hat{y}} = \\sigma(\\sigma({x W_1} + {b_1}) {W_2} + {b_2}) \n",
    "$$\n",
    "\n",
    "where $ \\sigma({x}) $ was the sigmoid function, $ {x} $ was the input, $ {W_1}, {W_2} $ the weight matrices and $ {b_1}, {b_2}$ the biases for the two layers.\n",
    "\n",
    "This is how we used this network:"
   ]
  },
  {
   "cell_type": "code",
   "execution_count": 7,
   "metadata": {
    "id": "6zta7tzkN5eg",
    "tags": []
   },
   "outputs": [],
   "source": [
    "input_size = datasets['train'][0]['image'].shape[0]\n",
    "model = ClassificationNet(input_size=input_size, \n",
    "                          hidden_size=512)"
   ]
  },
  {
   "cell_type": "markdown",
   "metadata": {
    "id": "UpAoXE7nN5eh"
   },
   "source": [
    "Note that we updated the ```ClassificationNet``` from the previous exercise. Now you can customize the number of outputs, the choice of activation function, the hidden size etc. We encourage you to check the implementation in ```exercise_code/networks/classification_net.py``` "
   ]
  },
  {
   "cell_type": "code",
   "execution_count": 8,
   "metadata": {
    "id": "7wzEaw66N5eh",
    "tags": []
   },
   "outputs": [],
   "source": [
    "num_layer = 2\n",
    "reg = 1e-6\n",
    "\n",
    "model = ClassificationNet(activation=Relu, \n",
    "                          num_layer=num_layer, \n",
    "                          reg=reg,\n",
    "                          num_classes=10)"
   ]
  },
  {
   "cell_type": "markdown",
   "metadata": {
    "id": "x70gjgkDN5eh"
   },
   "source": [
    "Performing the forward and backward passes through the model was quite simple:\n",
    "\n",
    "```python\n",
    "\n",
    "# X is a batch of training features \n",
    "# X.shape = (batch_size, features_size)\n",
    "y_out = model.forward(X)\n",
    "\n",
    "# dout is the gradient of the loss function w.r.t the output of the network.\n",
    "# dout.shape = (batch_size, )\n",
    "model.backward(dout)\n",
    "```"
   ]
  },
  {
   "cell_type": "markdown",
   "metadata": {
    "id": "dlwNcT2RN5eh"
   },
   "source": [
    "Just as the learning rate or the number of epochs we want to train for, the number of hidden layers and the number of units in each hidden layer are also hyperparameters that we can tune. In this notebook you can play with networks of different sizes to see the impact that the network capacity has.\n",
    "\n",
    "Before we move on to the loss functions, let's have a look at the activation functions. The choice of an activation function can have a huge impact on the performance of the network you are designing. So far, you have implemented the `Sigmoid` and the `Relu` activation functions in Exercise 5. \n",
    "\n",
    "<div class=\"alert alert-success\">\n",
    "    <h3>Task: Check Code</h3>\n",
    "    <p>Take a look at the <code>Sigmoid</code> and the <code>Relu</code> class in <code>exercise_code/networks/layer.py</code> and the implementation of the respective forward and backward passes. Make sure to understand why we used <b>element-wise product</b> instead of dot product in the backward pass of the <code>Sigmoid</code> class to compute the gradient <code>dx</code>. That will be helpful for your later implementation of other activation functions.</p>\n",
    "    <p> <b>Note:</b> The <code>cache</code> variable is used to store information from the forward pass and then pass this information in the backward pass to make use of it there. The implementation of both classes shows that this variable can be used differently - depending on which information is needed in the backward pass. </p>\n",
    "</div>\n",
    "\n",
    "Now, we want to have a look at two other, very common activation functions that you have already seen in the lecture: Leaky ReLU activation function and Tanh activation function. \n",
    "\n",
    "**Leaky Relus** are one attempt to fix the “dying ReLU” problem. Instead of the function being zero when $ x < 0 $, a leaky ReLU has a small negative slope (for example, 0.01).  The function computes $f(x) = \\mathbb{1}(x < 0) (\\alpha x) + \\mathbb{1}(x>=0) (x)$ where $\\alpha$ is a small constant. Some people report success with this form of activation function, but the results are not always consistent.\n",
    "\n",
    "The **tanh non-linearity** squashes a real-valued number into the range [-1, 1]. Like the sigmoid neuron, its activations saturate, but unlike the sigmoid neuron its output is zero-centered. Therefore, in practice the tanh non-linearity is always preferred to the sigmoid non-linearity. Also note that the tanh neuron is simply a scaled sigmoid neuron, in particular the following holds: $\\tanh(x) = 2 \\cdot \\sigma(2x) -1$.\n",
    "\n",
    "<img class=left src=https://pytorch.org/docs/stable/_images/LeakyReLU.png alt=\"Figure3\" width=\"350\" align='left'/> \n",
    "<img class=right src=https://pytorch.org/docs/stable/_images/Tanh.png alt=\"Figure4\" width=\"350\"/>\n",
    "\n",
    "<div class=\"alert alert-info\">\n",
    "    <h3>Task: Implement Activation Layers</h3>\n",
    "    <p> Now, it is your turn to implement the <code>LeakyRelu</code> and the <code>Tanh</code> class in <code>exercise_code/networks/layer.py</code> by completing the <code>forward</code> and the <code>backward</code> functions. You can test your implementation in the following two cells. </p>\n",
    "    <p> <b>Note:</b> Always remember to return a cache in <code>forward</code> for later backpropagation in <code>backward</code>. As we have seen above, the <code>cache</code> variable can be used differently for two activation functions.</p>\n",
    "</div>\n",
    "\n",
    "Use this cell to test your implementation of the `LeakyRelu` class:"
   ]
  },
  {
   "cell_type": "code",
   "execution_count": 9,
   "metadata": {
    "colab": {
     "base_uri": "https://localhost:8080/"
    },
    "executionInfo": {
     "elapsed": 854,
     "status": "ok",
     "timestamp": 1650011740634,
     "user": {
      "displayName": "Weber Anna",
      "userId": "18154618360144454414"
     },
     "user_tz": -120
    },
    "id": "v0LYvwHmN5ei",
    "outputId": "e124210f-f387-45b4-cd23-b0444c894b10",
    "tags": []
   },
   "outputs": [
    {
     "name": "stdout",
     "output_type": "stream",
     "text": [
      "\n",
      "####### Testing \u001b[96mLeakyReluTest\u001b[0m Started #######\n",
      "\n",
      "Test LeakyReluForwardTest: \u001b[92mpassed!\u001b[0m\n",
      "Test LeakyReluBackwardTest: \u001b[92mpassed!\u001b[0m\n",
      "\n",
      "####### Testing \u001b[96mLeakyReluTest\u001b[0m Finished #######\n",
      "Test LeakyReluTest: \u001b[92mpassed!\u001b[0m -->  Tests passed: \u001b[92m2\u001b[0m/\u001b[92m2\u001b[0m\n",
      "Score: \u001b[92m100\u001b[0m/\u001b[92m100\u001b[0m\n"
     ]
    }
   ],
   "source": [
    "from exercise_code.tests.layer_tests import *\n",
    "LeakyReluTestWrapper()()"
   ]
  },
  {
   "cell_type": "markdown",
   "metadata": {
    "id": "kOkiYhe_N5ei"
   },
   "source": [
    "And this cell to test your implementation of the `Tanh` class:"
   ]
  },
  {
   "cell_type": "code",
   "execution_count": 10,
   "metadata": {
    "colab": {
     "base_uri": "https://localhost:8080/"
    },
    "executionInfo": {
     "elapsed": 11,
     "status": "ok",
     "timestamp": 1650011740635,
     "user": {
      "displayName": "Weber Anna",
      "userId": "18154618360144454414"
     },
     "user_tz": -120
    },
    "id": "Do-AHImrN5ei",
    "outputId": "b4c5a743-2ae6-4700-e052-4c9c4a220d08",
    "tags": []
   },
   "outputs": [
    {
     "name": "stdout",
     "output_type": "stream",
     "text": [
      "\n",
      "####### Testing \u001b[96mTanhTest\u001b[0m Started #######\n",
      "\n",
      "Test TanhForwardTest: \u001b[92mpassed!\u001b[0m\n",
      "Test TanhBackwardTest: \u001b[92mpassed!\u001b[0m\n",
      "\n",
      "####### Testing \u001b[96mTanhTest\u001b[0m Finished #######\n",
      "Test TanhTest: \u001b[92mpassed!\u001b[0m -->  Tests passed: \u001b[92m2\u001b[0m/\u001b[92m2\u001b[0m\n",
      "Score: \u001b[92m100\u001b[0m/\u001b[92m100\u001b[0m\n"
     ]
    }
   ],
   "source": [
    "TanhTestWrapper()()"
   ]
  },
  {
   "cell_type": "markdown",
   "metadata": {
    "id": "Mw_iJW4dN5ej"
   },
   "source": [
    "Congratulations, you implemented four different activation functions! These activation layers are now ready to be used when you start building your own network."
   ]
  },
  {
   "cell_type": "markdown",
   "metadata": {
    "id": "3MhxqP2LN5ej"
   },
   "source": [
    "## 1.4 Loss\n",
    "\n",
    "In order to measure how well a network is performing, we implemented several ```Loss``` classes (```L1```, ```MSE```, ```BCE```, each preferred for a certain type of problems) in ```exercise_code/networks/loss.py```.\n",
    "\n",
    "Each contains a ```forward()``` method, which outputs a number we can use as a measure for our network's performance. \n",
    "\n",
    "Since our goal is to change the weights of the network in a way that this loss measure decreases, we are also interested in the gradients of the loss w.r.t the outputs of the network, $ \\nabla_{\\hat{y}} L({\\hat{y}}, {y}) $. This was implemented in ```backward()```. \n",
    "\n",
    "In previous exercises, we worked on binary classification problems and therefore used binary cross entropy (```BCE```) as a loss function.\n",
    "\n",
    "$$ BCE(\\hat{y}, y) = - \\frac{1}{N} \\sum_{i=1}^N \\Big(y_i \\log(\\hat{y_i}) + (1-y_i) \\log(1 - \\hat{y_i}) \\Big) $$ \n",
    "\n",
    "where\n",
    "- $ N $ was the number of samples we were considering\n",
    "- $\\hat{y}_i$ was the network's prediction for sample $i$. Note that this was a valid probability $\\in [0, 1]$, because we applied a [sigmoid](https://en.wikipedia.org/wiki/Sigmoid_function) activation on the last layer. \n",
    "- $ y_i $ was the ground truth label (0 or 1, depending on the class)\n",
    "\n",
    "Since we have 10 classes in the CIFAR10 dataset, we need a generalization of the binary cross entropy loss to multiple classes. This generalization is called the cross entropy loss and is defined as:\n",
    "$$ CE(\\hat{y}, y) = - \\frac{1}{N} \\sum_{i=1}^N \\sum_{k=1}^{C} \\Big(y_{ik} \\log(\\hat{y}_{ik}) \\Big) $$\n",
    "\n",
    "where:\n",
    "- $ N $ is the number of samples\n",
    "- $ C $ is the number of classes\n",
    "- $ \\hat{y}_{ik} $ is the probability that the model assigns for the $k$th class when the $i$th sample is the input. **Because we don't apply any activation function on the last layer of our network, its outputs for each sample will not be a valid probability distribution over the classes. We call these the raw outputs of the network '[logits](https://datascience.stackexchange.com/questions/31041/what-does-logits-in-machine-learning-mean/31045)' and we will apply a [softmax](https://en.wikipedia.org/wiki/Softmax_function) activation in order to obtain a valid probability distribution.** \n",
    "- $y_{ik} = 1 $ iff the true label of the $i$th sample is $k$ and 0 otherwise. This is called a [one-hot encoding](https://machinelearningmastery.com/why-one-hot-encode-data-in-machine-learning/).\n",
    "\n",
    "You can check for yourself that if the number of classes $ C $ is 2, the binary cross entropy is actually equivalent to the cross entropy.\n",
    "\n",
    "<div class=\"alert alert-success\">\n",
    "    <h3>Task: Check Code</h3>\n",
    "    <p>Please check the implementation of the <code>CrossEntropyFromLogits</code> class, which can be found in <code>../exercise_06/exercise_code/networks/loss.py</code>. </p>\n",
    "</div>"
   ]
  },
  {
   "cell_type": "code",
   "execution_count": 11,
   "metadata": {
    "id": "EBPuFF0BN5ej"
   },
   "outputs": [],
   "source": [
    "loss = CrossEntropyFromLogits"
   ]
  },
  {
   "cell_type": "markdown",
   "metadata": {
    "id": "y1HcQs25N5ek"
   },
   "source": [
    "We can simply get the results of the forward and backward passes as follows:"
   ]
  },
  {
   "cell_type": "markdown",
   "metadata": {
    "id": "Jv2aujOvN5ek"
   },
   "source": [
    "```python\n",
    "# y_out is the output of the neural network\n",
    "# y_truth is the actual label from the dataset\n",
    "loss.forward(y_out, y_truth)\n",
    "loss.backward(y_out, y_truth)\n",
    "```"
   ]
  },
  {
   "cell_type": "markdown",
   "metadata": {
    "id": "dbFSP4z9N5ek"
   },
   "source": [
    "## 1.5 Optimizer\n",
    "\n",
    "Now that we know the gradient of the loss w.r.t the ouputs of the network, as well as the local gradient for each layer of the network, we can use the chain rule to compute all gradients. \n",
    "\n",
    "<div class=\"alert alert-success\">\n",
    "    <h3>Task: Check Code</h3>\n",
    "    <p>We implemented several optimizer classes <code>SGD</code>, <code>Adam</code>, <code>sgd_momentum</code> that use different first-order parameter update rules. Those can be found in <code>../exercise_06/exercise_code/networks/optimizer.py</code>. </p>\n",
    "    <p>The <code>step()</code> method used, iterates through all the parameters of the model and updates them using the gradient information.</p>\n",
    "</div>\n",
    "\n",
    "What the optimizer is doing, in pseudocode, is the following:\n",
    "\n",
    "```python\n",
    "for param in model:\n",
    "    # Use the gradient to update the weights.\n",
    "    update(param)\n",
    "    \n",
    "    # Reset the gradient after each update.\n",
    "    param.gradient = 0\n",
    "```\n",
    "\n",
    "```SGD``` had the simplest update rule:\n",
    "```python\n",
    "def update(param):\n",
    "    param = param - learning_rate * param.gradient\n",
    "```\n",
    "\n",
    "For the more complicated update rules, see ```exercise_code/networks/optimizer.py```"
   ]
  },
  {
   "cell_type": "markdown",
   "metadata": {
    "id": "0TE2PxMBN5ek"
   },
   "source": [
    "## 1.6 Solver\n",
    "\n",
    "The ```Solver``` is where all the above elements come together: Given a train and a validation dataloader, a model, a loss and an optimizer, it uses the training data to optimize a model in order to get better predictions. We simply call ```train()``` and it does its 'magic' for us!\n",
    "```python\n",
    "solver = Solver(model, \n",
    "                dataloaders['train'], \n",
    "                dataloaders['val'], \n",
    "                learning_rate=0.001, \n",
    "                loss_func=MSE(), \n",
    "                optimizer=SGD)\n",
    "\n",
    "solver.train(epochs=epochs)\n",
    "```\n",
    "\n",
    "<div class=\"alert alert-success\">\n",
    "    <h3>Task: Check Code</h3>\n",
    "    <p>Please check out the implementation of <code>train()</code> in <code>../exercise_06/exercise_code/solver.py</code>. </p>\n",
    "</div>"
   ]
  },
  {
   "cell_type": "markdown",
   "metadata": {
    "id": "QUFotyERN5ek"
   },
   "source": [
    "## 1.7 Weight Regularization\n",
    "\n",
    "Before finishing the recap, we want to take a look at some regularization methods that have been introduced in the lecture. Those can be helpful to improve the robustness of our model. In this chapter, we're talking about weight regularization methods.\n",
    "\n",
    "Weight regularization (a.k.a \"Weight Decay\") has been introduced to you as a method preventing the model from overfitting to the training data. \n",
    "\n",
    "The regularization term over the weights of the network is added to the loss:\n",
    "\n",
    "$$ L^* = \\underbrace{L}_{\\text{Overall loss}} + \\underbrace{\\lambda R(\\theta)}_{\\text{Regularization loss}} $$\n",
    "\n",
    "where $\\theta$ represents **ALL** the weights of the network, $\\theta = \\{W_1, \\dots, W_n\\}$ and $R(\\theta) \\in \\mathbb{R}.$\n",
    "\n",
    "Therefore, the backward step for each weight matrix $W_k \\in  \\theta$ is: \n",
    "\n",
    "$$\\frac{\\partial L}{\\partial W_k}^* = \\underbrace{\\frac{\\partial L}{\\partial W_k}}_{\\text{Gradient}}  + \\underbrace{\\lambda \\frac{\\partial R(\\theta)}{\\partial W_k}}_{\\text{Reg. loss gradient}}$$\n",
    "\n",
    "The usage of the regularization term encodes some preferences in manipulating the weights. In the lecture, we compared two weight regularization methods and their respective preference for weight vectors. We made the following observations: \n",
    "\n",
    "1. L1 regularization: Enforces sparsity \n",
    "2. L2 regularization: Enforces that weights have similar values\n",
    "\n",
    "The most common weight regularization method is the L2 regularization. The L2 regularization prefers smaller and more diffuse weight vectors. Therefore, the model is encouraged to take all input dimensions into account rather than focusing strongly on a small number of input dimensions.\n",
    "\n",
    "When using weight regularization, the loss function is a composition of two parts:\n",
    "\n",
    "The first being the data loss, which is calculated using Cross Entropy loss in our model. The second part is called the regularization loss $R(\\theta)$ and is computed in the L2 case as follows:\n",
    "$$R(\\theta) = \\sum_{k} \\sum_{i} \\sum_{j} w_{k,i,j}^2$$\n",
    "\n",
    "Where $k$ runs over all weight matrices in the network, and $i, j$ correspond to the spatial height and width of each weight matrix $W_k$."
   ]
  },
  {
   "cell_type": "markdown",
   "metadata": {
    "id": "DxExi4hQN5el"
   },
   "source": [
    "# 2. An overview of hyperparameters"
   ]
  },
  {
   "cell_type": "markdown",
   "metadata": {
    "id": "OdQde3JEN5el"
   },
   "source": [
    "\n",
    "<img src=https://images.deepai.org/glossary-terms/05c646fe1676490aa0b8cab0732a02b2/hyperparams.png alt=hyperparameter width=700>\n",
    "\n",
    "A **hyperparameter** is a parameter that is set before the learning process begins. Recall that the parameters of the weight matrix and the bias vector are learned during the learning process.\n",
    "\n",
    "The hyperparameter settings are essential, since they control and affect the whole training and therefore have a great impact on the model's performance. \n",
    "\n",
    "Some hyperparameters we have covered in lectures are:\n",
    "* Network architecture\n",
    "    * Choice of activation function\n",
    "    * Number of layers\n",
    "    * ...\n",
    "* Learning rate\n",
    "* Number of epochs\n",
    "* Batch size\n",
    "* Regularization strength\n",
    "* Momentum\n",
    "* ..."
   ]
  },
  {
   "cell_type": "markdown",
   "metadata": {
    "id": "Rn6g8Zw1N5el"
   },
   "source": [
    "## 2.1 Start debugging your own network!"
   ]
  },
  {
   "cell_type": "markdown",
   "metadata": {
    "id": "hUoj3OgzN5el"
   },
   "source": [
    "As already suggested in the lectures, you should always start from small and simple architectures, to make sure you are going the right way. \n",
    "\n",
    "As a first step you should try to overfit to a single training sample, then to a few batches of training samples and finally go deeper with larger neural networks and the whole training data.\n",
    "\n",
    "We provide a default neural network (i.e. ClassificationNet) with arbitrary number of layers, which is a generalization from a fixed 2-layer neural network in exercise 5. You are welcome to implement your own network, in that case just implement **MyOwnNetwork** in ```exercise_code/networks/classification_net.py```. You can also copy things from ClassficationNet and make little adjustments to your own network. Either way, just pick one network and comment out the other one, then run the cells below for debugging.\n",
    "\n",
    "<div class=\"alert alert-warning\">\n",
    "    <h3>Note:</h3>\n",
    "    <p>Please, make sure you don't modify the ClassificationNet itself. In this way you can always have a working network to fall back on.</p>\n",
    "    <p>In order to pass this submissions, you can <b>first stick to the default ClassificationNet implementation without changing any code at all</b>. The goal of this submission is to find reasonable hyperparameters and the parameter options of the ClassificationNet are broad enough to pass.</p>\n",
    "    <p>Once you have surpassed the submission goal, you can try to implement additional activation functions in the accompanying notebook, try different weight initializations or make other adjustments by writing your own network architecture in the MyOwnNetwork class.</p>\n",
    "</div>"
   ]
  },
  {
   "cell_type": "markdown",
   "metadata": {
    "id": "gij9DxvmN5el"
   },
   "source": [
    "First, let's start with a 2-layer neural network, and overfit to one single training sample.\n",
    "\n",
    "After training, let's evaluate the training process by plotting the loss curves."
   ]
  },
  {
   "cell_type": "code",
   "execution_count": 28,
   "metadata": {
    "colab": {
     "base_uri": "https://localhost:8080/"
    },
    "executionInfo": {
     "elapsed": 20902,
     "status": "ok",
     "timestamp": 1650011761531,
     "user": {
      "displayName": "Weber Anna",
      "userId": "18154618360144454414"
     },
     "user_tz": -120
    },
    "id": "S1k3JrlsN5el",
    "outputId": "1193ba97-9871-489f-d6a5-f21a3869f09c"
   },
   "outputs": [
    {
     "name": "stdout",
     "output_type": "stream",
     "text": [
      "(Epoch 1 / 20) train loss: 2.305317; val loss: 2.306028\n",
      "(Epoch 2 / 20) train loss: 2.192248; val loss: 2.310757\n",
      "(Epoch 3 / 20) train loss: 2.059828; val loss: 2.316907\n",
      "(Epoch 4 / 20) train loss: 1.905771; val loss: 2.324735\n",
      "(Epoch 5 / 20) train loss: 1.739925; val loss: 2.334512\n",
      "(Epoch 6 / 20) train loss: 1.573926; val loss: 2.346512\n",
      "(Epoch 7 / 20) train loss: 1.413757; val loss: 2.360999\n",
      "(Epoch 8 / 20) train loss: 1.263276; val loss: 2.378232\n",
      "(Epoch 9 / 20) train loss: 1.121333; val loss: 2.398455\n",
      "(Epoch 10 / 20) train loss: 0.987925; val loss: 2.421837\n",
      "(Epoch 11 / 20) train loss: 0.866366; val loss: 2.448449\n",
      "(Epoch 12 / 20) train loss: 0.756138; val loss: 2.478304\n",
      "(Epoch 13 / 20) train loss: 0.654902; val loss: 2.511323\n",
      "(Epoch 14 / 20) train loss: 0.564065; val loss: 2.547244\n",
      "(Epoch 15 / 20) train loss: 0.485329; val loss: 2.585675\n",
      "(Epoch 16 / 20) train loss: 0.417670; val loss: 2.626179\n",
      "(Epoch 17 / 20) train loss: 0.359443; val loss: 2.668297\n",
      "(Epoch 18 / 20) train loss: 0.309497; val loss: 2.711557\n",
      "(Epoch 19 / 20) train loss: 0.266882; val loss: 2.755495\n",
      "(Epoch 20 / 20) train loss: 0.230693; val loss: 2.799672\n"
     ]
    }
   ],
   "source": [
    "from exercise_code.solver import Solver\n",
    "from exercise_code.networks.optimizer import SGD, Adam\n",
    "from exercise_code.networks import MyOwnNetwork\n",
    "\n",
    "num_layer = 2\n",
    "epochs = 20\n",
    "reg = 1e-6\n",
    "batch_size = 4\n",
    "\n",
    "model = ClassificationNet(num_layer=num_layer, reg=reg)\n",
    "# model = MyOwnNetwork()\n",
    "\n",
    "loss = CrossEntropyFromLogits\n",
    "\n",
    "# Make a new data loader with a single training image\n",
    "overfit_dataset = DATASET(\n",
    "    mode='train',\n",
    "    root=cifar_root, \n",
    "    download_url=download_url,\n",
    "    transform=compose_transform,\n",
    "    limit_files=1\n",
    ")\n",
    "dataloaders['train_overfit_single_image'] = DataLoader(\n",
    "    dataset=overfit_dataset,\n",
    "    batch_size=batch_size,\n",
    "    shuffle=True,\n",
    "    drop_last=False,\n",
    ")\n",
    "\n",
    "\n",
    "# Decrease validation data for only debugging\n",
    "debugging_validation_dataset = DATASET(\n",
    "    mode='val',\n",
    "    root=cifar_root, \n",
    "    download_url=download_url,\n",
    "    transform=compose_transform,\n",
    "    limit_files=100\n",
    ")\n",
    "dataloaders['val_500files'] = DataLoader(\n",
    "    dataset=debugging_validation_dataset,\n",
    "    batch_size=batch_size,\n",
    "    shuffle=True,\n",
    "    drop_last=True,\n",
    ")\n",
    "\n",
    "solver = Solver(model, dataloaders['train_overfit_single_image'], dataloaders['val_500files'], \n",
    "                learning_rate=1e-3, loss_func=loss, optimizer=Adam)\n",
    "\n",
    "solver.train(epochs=epochs)"
   ]
  },
  {
   "cell_type": "code",
   "execution_count": 13,
   "metadata": {
    "colab": {
     "base_uri": "https://localhost:8080/"
    },
    "executionInfo": {
     "elapsed": 434,
     "status": "ok",
     "timestamp": 1650011761941,
     "user": {
      "displayName": "Weber Anna",
      "userId": "18154618360144454414"
     },
     "user_tz": -120
    },
    "id": "aMc51VqHN5em",
    "outputId": "730d9eb6-6b24-4411-e6b9-c165a73a7e6e"
   },
   "outputs": [
    {
     "data": {
      "image/png": "[encoded data removed]",
      "text/plain": [
       "<Figure size 1000x800 with 1 Axes>"
      ]
     },
     "metadata": {},
     "output_type": "display_data"
    }
   ],
   "source": [
    "plt.title('Loss curves')\n",
    "plt.plot(solver.train_loss_history, '-', label='train')\n",
    "plt.plot(solver.val_loss_history, '-', label='val')\n",
    "plt.legend(loc='lower right')\n",
    "plt.xlabel('Iteration')\n",
    "plt.show()"
   ]
  },
  {
   "cell_type": "code",
   "execution_count": 14,
   "metadata": {
    "colab": {
     "base_uri": "https://localhost:8080/"
    },
    "executionInfo": {
     "elapsed": 244,
     "status": "ok",
     "timestamp": 1650011762177,
     "user": {
      "displayName": "Weber Anna",
      "userId": "18154618360144454414"
     },
     "user_tz": -120
    },
    "id": "cchvV2Q_N5em",
    "outputId": "6ba579ba-58ed-43e8-f3e7-97a51018ee4b"
   },
   "outputs": [
    {
     "name": "stdout",
     "output_type": "stream",
     "text": [
      "Training accuray: 1.00000\n",
      "Validation accuray: 0.07000\n"
     ]
    }
   ],
   "source": [
    "print(\"Training accuray: %.5f\" % (solver.get_dataset_accuracy(dataloaders['train_overfit_single_image'])))\n",
    "print(\"Validation accuray: %.5f\" % (solver.get_dataset_accuracy(dataloaders['val_500files'])))"
   ]
  },
  {
   "cell_type": "markdown",
   "metadata": {
    "id": "HeTCu8wwN5em"
   },
   "source": [
    "This time we want to overfit to a small set of training batch samples. Please observe the difference from above. "
   ]
  },
  {
   "cell_type": "code",
   "execution_count": 40,
   "metadata": {
    "colab": {
     "base_uri": "https://localhost:8080/"
    },
    "executionInfo": {
     "elapsed": 32205,
     "status": "ok",
     "timestamp": 1650011794379,
     "user": {
      "displayName": "Weber Anna",
      "userId": "18154618360144454414"
     },
     "user_tz": -120
    },
    "id": "SsIu_JaUN5em",
    "outputId": "81810746-ea3e-4a60-f3b7-dad4230c7231"
   },
   "outputs": [
    {
     "name": "stdout",
     "output_type": "stream",
     "text": [
      "(Epoch 1 / 500) train loss: 2.285500; val loss: 2.339717\n",
      "(Epoch 2 / 500) train loss: 2.183938; val loss: 2.402622\n",
      "(Epoch 3 / 500) train loss: 2.074742; val loss: 2.461549\n",
      "(Epoch 4 / 500) train loss: 1.897566; val loss: 2.519824\n",
      "(Epoch 5 / 500) train loss: 1.948682; val loss: 2.605881\n",
      "(Epoch 6 / 500) train loss: 1.825866; val loss: 2.652321\n",
      "(Epoch 7 / 500) train loss: 1.799346; val loss: 2.726039\n",
      "(Epoch 8 / 500) train loss: 1.651661; val loss: 2.823326\n",
      "(Epoch 9 / 500) train loss: 1.716109; val loss: 2.904206\n",
      "(Epoch 10 / 500) train loss: 1.780052; val loss: 2.934188\n",
      "(Epoch 11 / 500) train loss: 1.680959; val loss: 2.939775\n",
      "(Epoch 12 / 500) train loss: 1.629012; val loss: 3.071115\n",
      "(Epoch 13 / 500) train loss: 1.610460; val loss: 3.183548\n",
      "(Epoch 14 / 500) train loss: 1.672478; val loss: 3.200640\n",
      "(Epoch 15 / 500) train loss: 1.587461; val loss: 3.149714\n",
      "(Epoch 16 / 500) train loss: 1.668974; val loss: 3.163480\n",
      "(Epoch 17 / 500) train loss: 1.720423; val loss: 3.218748\n",
      "(Epoch 18 / 500) train loss: 1.649994; val loss: 3.297473\n",
      "(Epoch 19 / 500) train loss: 1.744664; val loss: 3.286228\n",
      "(Epoch 20 / 500) train loss: 1.555494; val loss: 3.296058\n",
      "(Epoch 21 / 500) train loss: 1.532400; val loss: 3.353487\n",
      "(Epoch 22 / 500) train loss: 1.650898; val loss: 3.335835\n",
      "(Epoch 23 / 500) train loss: 1.565634; val loss: 3.324160\n",
      "(Epoch 24 / 500) train loss: 1.420765; val loss: 3.387894\n",
      "(Epoch 25 / 500) train loss: 1.553824; val loss: 3.443104\n",
      "(Epoch 26 / 500) train loss: 1.645245; val loss: 3.411845\n",
      "(Epoch 27 / 500) train loss: 1.462175; val loss: 3.388331\n",
      "(Epoch 28 / 500) train loss: 1.489655; val loss: 3.365208\n",
      "(Epoch 29 / 500) train loss: 1.593558; val loss: 3.393673\n",
      "(Epoch 30 / 500) train loss: 1.475067; val loss: 3.414188\n",
      "(Epoch 31 / 500) train loss: 1.494880; val loss: 3.395651\n",
      "(Epoch 32 / 500) train loss: 1.445864; val loss: 3.402343\n",
      "(Epoch 33 / 500) train loss: 1.412655; val loss: 3.426924\n",
      "(Epoch 34 / 500) train loss: 1.398908; val loss: 3.434533\n",
      "(Epoch 35 / 500) train loss: 1.340097; val loss: 3.429872\n",
      "(Epoch 36 / 500) train loss: 1.325606; val loss: 3.428957\n",
      "(Epoch 37 / 500) train loss: 1.281199; val loss: 3.448830\n",
      "(Epoch 38 / 500) train loss: 1.328635; val loss: 3.462194\n",
      "(Epoch 39 / 500) train loss: 1.252740; val loss: 3.489602\n",
      "(Epoch 40 / 500) train loss: 1.351425; val loss: 3.463827\n",
      "(Epoch 41 / 500) train loss: 1.395456; val loss: 3.425381\n",
      "(Epoch 42 / 500) train loss: 1.283624; val loss: 3.479215\n",
      "(Epoch 43 / 500) train loss: 1.260205; val loss: 3.532474\n",
      "(Epoch 44 / 500) train loss: 1.328158; val loss: 3.511620\n",
      "(Epoch 45 / 500) train loss: 1.263282; val loss: 3.503041\n",
      "(Epoch 46 / 500) train loss: 1.288747; val loss: 3.502720\n",
      "(Epoch 47 / 500) train loss: 1.166260; val loss: 3.504792\n",
      "(Epoch 48 / 500) train loss: 1.171555; val loss: 3.478494\n",
      "(Epoch 49 / 500) train loss: 1.165794; val loss: 3.467053\n",
      "(Epoch 50 / 500) train loss: 1.108388; val loss: 3.464419\n",
      "(Epoch 51 / 500) train loss: 1.256416; val loss: 3.499950\n",
      "(Epoch 52 / 500) train loss: 1.180856; val loss: 3.607975\n",
      "(Epoch 53 / 500) train loss: 1.279983; val loss: 3.651597\n",
      "(Epoch 54 / 500) train loss: 1.270385; val loss: 3.621816\n",
      "(Epoch 55 / 500) train loss: 1.159381; val loss: 3.569214\n",
      "(Epoch 56 / 500) train loss: 1.166270; val loss: 3.541293\n",
      "(Epoch 57 / 500) train loss: 1.102849; val loss: 3.550748\n",
      "(Epoch 58 / 500) train loss: 1.106141; val loss: 3.563242\n",
      "(Epoch 59 / 500) train loss: 1.131310; val loss: 3.560031\n",
      "(Epoch 60 / 500) train loss: 1.021226; val loss: 3.545551\n",
      "(Epoch 61 / 500) train loss: 1.023033; val loss: 3.520533\n",
      "(Epoch 62 / 500) train loss: 1.066570; val loss: 3.511744\n",
      "(Epoch 63 / 500) train loss: 0.992489; val loss: 3.536180\n",
      "(Epoch 64 / 500) train loss: 0.997664; val loss: 3.560246\n",
      "(Epoch 65 / 500) train loss: 0.993427; val loss: 3.563452\n",
      "(Epoch 66 / 500) train loss: 1.015916; val loss: 3.577444\n",
      "(Epoch 67 / 500) train loss: 1.008923; val loss: 3.626238\n",
      "(Epoch 68 / 500) train loss: 1.022518; val loss: 3.648646\n",
      "(Epoch 69 / 500) train loss: 1.002308; val loss: 3.626701\n",
      "(Epoch 70 / 500) train loss: 1.042599; val loss: 3.591188\n",
      "(Epoch 71 / 500) train loss: 1.058402; val loss: 3.590445\n",
      "(Epoch 72 / 500) train loss: 0.993073; val loss: 3.621291\n",
      "(Epoch 73 / 500) train loss: 0.966817; val loss: 3.622171\n",
      "(Epoch 74 / 500) train loss: 0.941442; val loss: 3.588813\n",
      "(Epoch 75 / 500) train loss: 0.935433; val loss: 3.533396\n",
      "(Epoch 76 / 500) train loss: 0.915761; val loss: 3.523689\n",
      "(Epoch 77 / 500) train loss: 0.888247; val loss: 3.544182\n",
      "(Epoch 78 / 500) train loss: 0.903729; val loss: 3.570009\n",
      "(Epoch 79 / 500) train loss: 0.889155; val loss: 3.597817\n",
      "(Epoch 80 / 500) train loss: 0.885145; val loss: 3.564613\n",
      "(Epoch 81 / 500) train loss: 0.903430; val loss: 3.564119\n",
      "(Epoch 82 / 500) train loss: 0.895864; val loss: 3.571865\n",
      "(Epoch 83 / 500) train loss: 0.952354; val loss: 3.564534\n",
      "(Epoch 84 / 500) train loss: 0.864842; val loss: 3.571565\n",
      "(Epoch 85 / 500) train loss: 0.922976; val loss: 3.585711\n",
      "(Epoch 86 / 500) train loss: 0.842080; val loss: 3.591156\n",
      "(Epoch 87 / 500) train loss: 0.895600; val loss: 3.574035\n",
      "(Epoch 88 / 500) train loss: 0.873756; val loss: 3.538549\n",
      "(Epoch 89 / 500) train loss: 0.861075; val loss: 3.549272\n",
      "(Epoch 90 / 500) train loss: 0.840353; val loss: 3.569271\n",
      "(Epoch 91 / 500) train loss: 0.849889; val loss: 3.571963\n",
      "(Epoch 92 / 500) train loss: 0.896946; val loss: 3.580281\n",
      "(Epoch 93 / 500) train loss: 0.903963; val loss: 3.651018\n",
      "(Epoch 94 / 500) train loss: 0.995757; val loss: 3.617015\n",
      "(Epoch 95 / 500) train loss: 0.879715; val loss: 3.636150\n",
      "(Epoch 96 / 500) train loss: 0.923919; val loss: 3.648564\n",
      "(Epoch 97 / 500) train loss: 0.963955; val loss: 3.637521\n",
      "(Epoch 98 / 500) train loss: 0.890131; val loss: 3.647922\n",
      "(Epoch 99 / 500) train loss: 0.829978; val loss: 3.592006\n",
      "(Epoch 100 / 500) train loss: 0.897929; val loss: 3.558029\n",
      "(Epoch 101 / 500) train loss: 0.869847; val loss: 3.572268\n",
      "(Epoch 102 / 500) train loss: 0.892379; val loss: 3.576064\n",
      "(Epoch 103 / 500) train loss: 0.806072; val loss: 3.551729\n",
      "(Epoch 104 / 500) train loss: 0.864735; val loss: 3.515504\n",
      "(Epoch 105 / 500) train loss: 0.798607; val loss: 3.519266\n",
      "(Epoch 106 / 500) train loss: 1.000809; val loss: 3.563000\n",
      "(Epoch 107 / 500) train loss: 0.900137; val loss: 3.831455\n",
      "(Epoch 108 / 500) train loss: 1.121019; val loss: 3.863392\n",
      "(Epoch 109 / 500) train loss: 1.032619; val loss: 3.853423\n",
      "(Epoch 110 / 500) train loss: 1.051089; val loss: 3.809929\n",
      "(Epoch 111 / 500) train loss: 0.994374; val loss: 3.777994\n",
      "(Epoch 112 / 500) train loss: 0.931412; val loss: 3.736719\n",
      "(Epoch 113 / 500) train loss: 0.925219; val loss: 3.676740\n",
      "(Epoch 114 / 500) train loss: 0.836272; val loss: 3.655607\n",
      "(Epoch 115 / 500) train loss: 0.888541; val loss: 3.597322\n",
      "(Epoch 116 / 500) train loss: 0.808983; val loss: 3.548879\n",
      "(Epoch 117 / 500) train loss: 0.802412; val loss: 3.530618\n",
      "(Epoch 118 / 500) train loss: 0.851211; val loss: 3.522084\n",
      "(Epoch 119 / 500) train loss: 0.849850; val loss: 3.567468\n",
      "(Epoch 120 / 500) train loss: 0.829997; val loss: 3.614434\n",
      "(Epoch 121 / 500) train loss: 0.819584; val loss: 3.606653\n",
      "(Epoch 122 / 500) train loss: 0.794913; val loss: 3.565578\n",
      "(Epoch 123 / 500) train loss: 0.782047; val loss: 3.521748\n",
      "(Epoch 124 / 500) train loss: 0.786999; val loss: 3.500954\n",
      "(Epoch 125 / 500) train loss: 0.807864; val loss: 3.517560\n",
      "(Epoch 126 / 500) train loss: 0.795054; val loss: 3.561815\n",
      "(Epoch 127 / 500) train loss: 0.794624; val loss: 3.553901\n",
      "(Epoch 128 / 500) train loss: 0.766112; val loss: 3.535520\n",
      "(Epoch 129 / 500) train loss: 0.768025; val loss: 3.542259\n",
      "(Epoch 130 / 500) train loss: 0.813029; val loss: 3.558489\n",
      "(Epoch 131 / 500) train loss: 0.791786; val loss: 3.588403\n",
      "(Epoch 132 / 500) train loss: 0.780355; val loss: 3.587504\n",
      "(Epoch 133 / 500) train loss: 0.823718; val loss: 3.543970\n",
      "(Epoch 134 / 500) train loss: 0.780756; val loss: 3.562558\n",
      "(Epoch 135 / 500) train loss: 0.896082; val loss: 3.615852\n",
      "(Epoch 136 / 500) train loss: 0.829578; val loss: 3.742589\n",
      "(Epoch 137 / 500) train loss: 0.853104; val loss: 3.792631\n",
      "(Epoch 138 / 500) train loss: 0.849423; val loss: 3.749007\n",
      "(Epoch 139 / 500) train loss: 0.805209; val loss: 3.692691\n",
      "(Epoch 140 / 500) train loss: 0.788319; val loss: 3.640158\n",
      "(Epoch 141 / 500) train loss: 0.785437; val loss: 3.579014\n",
      "(Epoch 142 / 500) train loss: 0.783956; val loss: 3.539515\n",
      "(Epoch 143 / 500) train loss: 0.766869; val loss: 3.553783\n",
      "(Epoch 144 / 500) train loss: 0.783179; val loss: 3.576724\n",
      "(Epoch 145 / 500) train loss: 0.768244; val loss: 3.586289\n",
      "(Epoch 146 / 500) train loss: 0.800969; val loss: 3.579139\n",
      "(Epoch 147 / 500) train loss: 0.770761; val loss: 3.599646\n",
      "(Epoch 148 / 500) train loss: 0.776726; val loss: 3.606009\n",
      "(Epoch 149 / 500) train loss: 0.782751; val loss: 3.582833\n",
      "(Epoch 150 / 500) train loss: 0.751676; val loss: 3.574453\n",
      "(Epoch 151 / 500) train loss: 0.763473; val loss: 3.605450\n",
      "(Epoch 152 / 500) train loss: 0.751115; val loss: 3.589684\n",
      "(Epoch 153 / 500) train loss: 0.752068; val loss: 3.573990\n",
      "(Epoch 154 / 500) train loss: 0.727517; val loss: 3.546792\n",
      "(Epoch 155 / 500) train loss: 0.743254; val loss: 3.565425\n",
      "(Epoch 156 / 500) train loss: 0.797053; val loss: 3.575030\n",
      "(Epoch 157 / 500) train loss: 0.778257; val loss: 3.566188\n",
      "(Epoch 158 / 500) train loss: 0.738660; val loss: 3.572970\n",
      "(Epoch 159 / 500) train loss: 0.738858; val loss: 3.616814\n",
      "(Epoch 160 / 500) train loss: 0.752485; val loss: 3.637061\n",
      "(Epoch 161 / 500) train loss: 0.781710; val loss: 3.609191\n",
      "(Epoch 162 / 500) train loss: 0.765176; val loss: 3.551169\n",
      "(Epoch 163 / 500) train loss: 0.756421; val loss: 3.552830\n",
      "(Epoch 164 / 500) train loss: 0.764424; val loss: 3.608166\n",
      "(Epoch 165 / 500) train loss: 0.729436; val loss: 3.610109\n",
      "(Epoch 166 / 500) train loss: 0.757955; val loss: 3.593148\n",
      "(Epoch 167 / 500) train loss: 0.750371; val loss: 3.542174\n",
      "(Epoch 168 / 500) train loss: 0.743401; val loss: 3.545060\n",
      "(Epoch 169 / 500) train loss: 0.750299; val loss: 3.599450\n",
      "(Epoch 170 / 500) train loss: 0.745286; val loss: 3.679442\n",
      "(Epoch 171 / 500) train loss: 0.736570; val loss: 3.653636\n",
      "(Epoch 172 / 500) train loss: 0.726976; val loss: 3.601347\n",
      "(Epoch 173 / 500) train loss: 0.758493; val loss: 3.564956\n",
      "(Epoch 174 / 500) train loss: 0.767655; val loss: 3.605342\n",
      "(Epoch 175 / 500) train loss: 0.724201; val loss: 3.712835\n",
      "(Epoch 176 / 500) train loss: 0.795081; val loss: 3.709156\n",
      "(Epoch 177 / 500) train loss: 0.800205; val loss: 3.640510\n",
      "(Epoch 178 / 500) train loss: 0.749206; val loss: 3.582225\n",
      "(Epoch 179 / 500) train loss: 0.793393; val loss: 3.600110\n",
      "(Epoch 180 / 500) train loss: 0.795583; val loss: 3.684092\n",
      "(Epoch 181 / 500) train loss: 0.841697; val loss: 3.695552\n",
      "(Epoch 182 / 500) train loss: 0.746118; val loss: 3.684711\n",
      "(Epoch 183 / 500) train loss: 0.813020; val loss: 3.668956\n",
      "(Epoch 184 / 500) train loss: 0.805305; val loss: 3.663822\n",
      "(Epoch 185 / 500) train loss: 0.774717; val loss: 3.688450\n",
      "(Epoch 186 / 500) train loss: 0.803328; val loss: 3.710941\n",
      "(Epoch 187 / 500) train loss: 0.784636; val loss: 3.674882\n",
      "(Epoch 188 / 500) train loss: 0.748694; val loss: 3.632515\n",
      "(Epoch 189 / 500) train loss: 0.748445; val loss: 3.579464\n",
      "(Epoch 190 / 500) train loss: 0.753063; val loss: 3.537770\n",
      "(Epoch 191 / 500) train loss: 0.781746; val loss: 3.576408\n",
      "(Epoch 192 / 500) train loss: 0.754358; val loss: 3.653372\n",
      "(Epoch 193 / 500) train loss: 0.803117; val loss: 3.675034\n",
      "(Epoch 194 / 500) train loss: 0.773725; val loss: 3.673960\n",
      "(Epoch 195 / 500) train loss: 0.754293; val loss: 3.621968\n",
      "(Epoch 196 / 500) train loss: 0.756961; val loss: 3.593895\n",
      "(Epoch 197 / 500) train loss: 0.762260; val loss: 3.676555\n",
      "(Epoch 198 / 500) train loss: 0.768510; val loss: 3.729404\n",
      "(Epoch 199 / 500) train loss: 0.776889; val loss: 3.712882\n",
      "(Epoch 200 / 500) train loss: 0.807139; val loss: 3.633426\n",
      "(Epoch 201 / 500) train loss: 0.774542; val loss: 3.648477\n",
      "(Epoch 202 / 500) train loss: 0.792233; val loss: 3.646360\n",
      "(Epoch 203 / 500) train loss: 0.733641; val loss: 3.671820\n",
      "(Epoch 204 / 500) train loss: 0.738682; val loss: 3.684589\n",
      "(Epoch 205 / 500) train loss: 0.755924; val loss: 3.607799\n",
      "(Epoch 206 / 500) train loss: 0.721034; val loss: 3.544998\n",
      "(Epoch 207 / 500) train loss: 0.768069; val loss: 3.580364\n",
      "(Epoch 208 / 500) train loss: 0.721546; val loss: 3.676912\n",
      "(Epoch 209 / 500) train loss: 0.711681; val loss: 3.723575\n",
      "(Epoch 210 / 500) train loss: 0.743278; val loss: 3.669941\n",
      "(Epoch 211 / 500) train loss: 0.740386; val loss: 3.618654\n",
      "(Epoch 212 / 500) train loss: 0.720624; val loss: 3.622581\n",
      "(Epoch 213 / 500) train loss: 0.754217; val loss: 3.629436\n",
      "(Epoch 214 / 500) train loss: 0.719489; val loss: 3.620355\n",
      "(Epoch 215 / 500) train loss: 0.723239; val loss: 3.597849\n",
      "(Epoch 216 / 500) train loss: 0.726516; val loss: 3.590729\n",
      "(Epoch 217 / 500) train loss: 0.717860; val loss: 3.615430\n",
      "(Epoch 218 / 500) train loss: 0.728825; val loss: 3.652601\n",
      "(Epoch 219 / 500) train loss: 0.754647; val loss: 3.657492\n",
      "(Epoch 220 / 500) train loss: 0.750967; val loss: 3.639425\n",
      "(Epoch 221 / 500) train loss: 0.722755; val loss: 3.634298\n",
      "(Epoch 222 / 500) train loss: 0.752294; val loss: 3.669763\n",
      "(Epoch 223 / 500) train loss: 0.715197; val loss: 3.678087\n",
      "(Epoch 224 / 500) train loss: 0.724944; val loss: 3.644505\n",
      "(Epoch 225 / 500) train loss: 0.742790; val loss: 3.602801\n",
      "(Epoch 226 / 500) train loss: 0.742797; val loss: 3.618251\n",
      "(Epoch 227 / 500) train loss: 0.739889; val loss: 3.646202\n",
      "(Epoch 228 / 500) train loss: 0.716305; val loss: 3.656895\n",
      "(Epoch 229 / 500) train loss: 0.751560; val loss: 3.676253\n",
      "(Epoch 230 / 500) train loss: 0.730615; val loss: 3.659333\n",
      "(Epoch 231 / 500) train loss: 0.743443; val loss: 3.646635\n",
      "(Epoch 232 / 500) train loss: 0.713960; val loss: 3.645460\n",
      "(Epoch 233 / 500) train loss: 0.761777; val loss: 3.648321\n",
      "(Epoch 234 / 500) train loss: 0.710496; val loss: 3.658710\n",
      "(Epoch 235 / 500) train loss: 0.729679; val loss: 3.655219\n",
      "(Epoch 236 / 500) train loss: 0.738279; val loss: 3.644364\n",
      "(Epoch 237 / 500) train loss: 0.702747; val loss: 3.639049\n",
      "(Epoch 238 / 500) train loss: 0.815248; val loss: 3.631865\n",
      "(Epoch 239 / 500) train loss: 0.746763; val loss: 3.855218\n",
      "(Epoch 240 / 500) train loss: 1.009931; val loss: 3.880096\n",
      "(Epoch 241 / 500) train loss: 0.851435; val loss: 4.003261\n",
      "(Epoch 242 / 500) train loss: 0.932922; val loss: 4.066809\n",
      "(Epoch 243 / 500) train loss: 0.891112; val loss: 4.054091\n",
      "(Epoch 244 / 500) train loss: 0.900793; val loss: 3.963830\n",
      "(Epoch 245 / 500) train loss: 0.823509; val loss: 3.848177\n",
      "(Epoch 246 / 500) train loss: 0.835153; val loss: 3.726088\n",
      "(Epoch 247 / 500) train loss: 0.762054; val loss: 3.585731\n",
      "(Epoch 248 / 500) train loss: 0.824748; val loss: 3.615286\n",
      "(Epoch 249 / 500) train loss: 0.763343; val loss: 3.795811\n",
      "(Epoch 250 / 500) train loss: 0.843515; val loss: 3.861237\n",
      "(Epoch 251 / 500) train loss: 0.845380; val loss: 3.896461\n",
      "(Epoch 252 / 500) train loss: 0.798376; val loss: 3.825237\n",
      "(Epoch 253 / 500) train loss: 0.809753; val loss: 3.734307\n",
      "(Epoch 254 / 500) train loss: 0.789234; val loss: 3.726148\n",
      "(Epoch 255 / 500) train loss: 0.760211; val loss: 3.750774\n",
      "(Epoch 256 / 500) train loss: 0.735387; val loss: 3.730807\n",
      "(Epoch 257 / 500) train loss: 0.739149; val loss: 3.690696\n",
      "(Epoch 258 / 500) train loss: 0.760683; val loss: 3.636951\n",
      "(Epoch 259 / 500) train loss: 0.770434; val loss: 3.615688\n",
      "(Epoch 260 / 500) train loss: 0.713122; val loss: 3.650934\n",
      "(Epoch 261 / 500) train loss: 0.736841; val loss: 3.719809\n",
      "(Epoch 262 / 500) train loss: 0.718055; val loss: 3.755306\n",
      "(Epoch 263 / 500) train loss: 0.745062; val loss: 3.730313\n",
      "(Epoch 264 / 500) train loss: 0.737651; val loss: 3.697643\n",
      "(Epoch 265 / 500) train loss: 0.713302; val loss: 3.635898\n",
      "(Epoch 266 / 500) train loss: 0.720782; val loss: 3.626050\n",
      "(Epoch 267 / 500) train loss: 0.716232; val loss: 3.655017\n",
      "(Epoch 268 / 500) train loss: 0.713147; val loss: 3.667029\n",
      "(Epoch 269 / 500) train loss: 0.760678; val loss: 3.652490\n",
      "(Epoch 270 / 500) train loss: 0.723472; val loss: 3.646491\n",
      "(Epoch 271 / 500) train loss: 0.733848; val loss: 3.665229\n",
      "(Epoch 272 / 500) train loss: 0.740750; val loss: 3.702697\n",
      "(Epoch 273 / 500) train loss: 0.747698; val loss: 3.722695\n",
      "(Epoch 274 / 500) train loss: 0.758535; val loss: 3.701631\n",
      "(Epoch 275 / 500) train loss: 0.732467; val loss: 3.675966\n",
      "(Epoch 276 / 500) train loss: 0.739084; val loss: 3.704562\n",
      "(Epoch 277 / 500) train loss: 0.748420; val loss: 3.699520\n",
      "(Epoch 278 / 500) train loss: 0.709167; val loss: 3.748401\n",
      "(Epoch 279 / 500) train loss: 0.736933; val loss: 3.742412\n",
      "(Epoch 280 / 500) train loss: 0.732265; val loss: 3.693083\n",
      "(Epoch 281 / 500) train loss: 0.707815; val loss: 3.664107\n",
      "(Epoch 282 / 500) train loss: 0.739790; val loss: 3.659113\n",
      "(Epoch 283 / 500) train loss: 0.747291; val loss: 3.693119\n",
      "(Epoch 284 / 500) train loss: 0.741034; val loss: 3.737565\n",
      "(Epoch 285 / 500) train loss: 0.709592; val loss: 3.700841\n",
      "(Epoch 286 / 500) train loss: 0.747625; val loss: 3.661891\n",
      "(Epoch 287 / 500) train loss: 0.715976; val loss: 3.666980\n",
      "(Epoch 288 / 500) train loss: 0.723893; val loss: 3.694351\n",
      "(Epoch 289 / 500) train loss: 0.730931; val loss: 3.708531\n",
      "(Epoch 290 / 500) train loss: 0.703366; val loss: 3.657839\n",
      "(Epoch 291 / 500) train loss: 0.699538; val loss: 3.629191\n",
      "(Epoch 292 / 500) train loss: 0.748210; val loss: 3.640161\n",
      "(Epoch 293 / 500) train loss: 0.703922; val loss: 3.707017\n",
      "(Epoch 294 / 500) train loss: 0.745106; val loss: 3.714746\n",
      "(Epoch 295 / 500) train loss: 0.707577; val loss: 3.713250\n",
      "(Epoch 296 / 500) train loss: 0.741760; val loss: 3.718053\n",
      "(Epoch 297 / 500) train loss: 0.716651; val loss: 3.810354\n",
      "(Epoch 298 / 500) train loss: 0.720435; val loss: 3.772153\n",
      "(Epoch 299 / 500) train loss: 0.818558; val loss: 3.725572\n",
      "(Epoch 300 / 500) train loss: 0.733111; val loss: 3.862154\n",
      "(Epoch 301 / 500) train loss: 0.859081; val loss: 3.840440\n",
      "(Epoch 302 / 500) train loss: 0.784347; val loss: 3.832084\n",
      "(Epoch 303 / 500) train loss: 0.774846; val loss: 3.827599\n",
      "(Epoch 304 / 500) train loss: 0.761113; val loss: 3.755043\n",
      "(Epoch 305 / 500) train loss: 0.774531; val loss: 3.665355\n",
      "(Epoch 306 / 500) train loss: 0.722335; val loss: 3.659561\n",
      "(Epoch 307 / 500) train loss: 0.718611; val loss: 3.667874\n",
      "(Epoch 308 / 500) train loss: 0.720311; val loss: 3.663270\n",
      "(Epoch 309 / 500) train loss: 0.706996; val loss: 3.668241\n",
      "(Epoch 310 / 500) train loss: 0.716307; val loss: 3.656273\n",
      "(Epoch 311 / 500) train loss: 0.802665; val loss: 3.661651\n",
      "(Epoch 312 / 500) train loss: 0.717013; val loss: 3.780270\n",
      "(Epoch 313 / 500) train loss: 0.779757; val loss: 3.844374\n",
      "(Epoch 314 / 500) train loss: 0.768502; val loss: 3.826898\n",
      "(Epoch 315 / 500) train loss: 0.768509; val loss: 3.829368\n",
      "(Epoch 316 / 500) train loss: 0.737909; val loss: 3.809604\n",
      "(Epoch 317 / 500) train loss: 0.753314; val loss: 3.756634\n",
      "(Epoch 318 / 500) train loss: 0.690648; val loss: 3.679250\n",
      "(Epoch 319 / 500) train loss: 0.715194; val loss: 3.634603\n",
      "(Epoch 320 / 500) train loss: 0.712614; val loss: 3.635699\n",
      "(Epoch 321 / 500) train loss: 0.721798; val loss: 3.671699\n",
      "(Epoch 322 / 500) train loss: 0.744226; val loss: 3.730562\n",
      "(Epoch 323 / 500) train loss: 0.707699; val loss: 3.724645\n",
      "(Epoch 324 / 500) train loss: 0.711514; val loss: 3.710490\n",
      "(Epoch 325 / 500) train loss: 0.737513; val loss: 3.710556\n",
      "(Epoch 326 / 500) train loss: 0.689493; val loss: 3.704911\n",
      "(Epoch 327 / 500) train loss: 0.711390; val loss: 3.699418\n",
      "(Epoch 328 / 500) train loss: 0.714018; val loss: 3.653459\n",
      "(Epoch 329 / 500) train loss: 0.746350; val loss: 3.653544\n",
      "(Epoch 330 / 500) train loss: 0.701165; val loss: 3.688382\n",
      "(Epoch 331 / 500) train loss: 0.717720; val loss: 3.727705\n",
      "(Epoch 332 / 500) train loss: 0.697007; val loss: 3.710059\n",
      "(Epoch 333 / 500) train loss: 0.729056; val loss: 3.694405\n",
      "(Epoch 334 / 500) train loss: 0.735197; val loss: 3.697504\n",
      "(Epoch 335 / 500) train loss: 0.701855; val loss: 3.679073\n",
      "(Epoch 336 / 500) train loss: 0.719542; val loss: 3.661534\n",
      "(Epoch 337 / 500) train loss: 0.701554; val loss: 3.641205\n",
      "(Epoch 338 / 500) train loss: 0.712789; val loss: 3.645299\n",
      "(Epoch 339 / 500) train loss: 0.720837; val loss: 3.706022\n",
      "(Epoch 340 / 500) train loss: 0.726692; val loss: 3.744216\n",
      "(Epoch 341 / 500) train loss: 0.720058; val loss: 3.714727\n",
      "(Epoch 342 / 500) train loss: 0.709298; val loss: 3.673542\n",
      "(Epoch 343 / 500) train loss: 0.720942; val loss: 3.648796\n",
      "(Epoch 344 / 500) train loss: 0.700453; val loss: 3.674622\n",
      "(Epoch 345 / 500) train loss: 0.728510; val loss: 3.715752\n",
      "(Epoch 346 / 500) train loss: 0.718165; val loss: 3.712464\n",
      "(Epoch 347 / 500) train loss: 0.703957; val loss: 3.681958\n",
      "(Epoch 348 / 500) train loss: 0.719829; val loss: 3.669014\n",
      "(Epoch 349 / 500) train loss: 0.716999; val loss: 3.684279\n",
      "(Epoch 350 / 500) train loss: 0.684641; val loss: 3.704615\n",
      "(Epoch 351 / 500) train loss: 0.745889; val loss: 3.698060\n",
      "(Epoch 352 / 500) train loss: 0.695776; val loss: 3.679913\n",
      "(Epoch 353 / 500) train loss: 0.727447; val loss: 3.680904\n",
      "(Epoch 354 / 500) train loss: 0.740207; val loss: 3.728840\n",
      "(Epoch 355 / 500) train loss: 0.731057; val loss: 3.744453\n",
      "(Epoch 356 / 500) train loss: 0.709015; val loss: 3.708945\n",
      "(Epoch 357 / 500) train loss: 0.727027; val loss: 3.702034\n",
      "(Epoch 358 / 500) train loss: 0.714703; val loss: 3.726663\n",
      "(Epoch 359 / 500) train loss: 0.743691; val loss: 3.735624\n",
      "(Epoch 360 / 500) train loss: 0.726200; val loss: 3.734843\n",
      "(Epoch 361 / 500) train loss: 0.704896; val loss: 3.726199\n",
      "(Epoch 362 / 500) train loss: 0.711173; val loss: 3.690202\n",
      "(Epoch 363 / 500) train loss: 0.718166; val loss: 3.667702\n",
      "(Epoch 364 / 500) train loss: 0.727821; val loss: 3.673486\n",
      "(Epoch 365 / 500) train loss: 0.711896; val loss: 3.652399\n",
      "(Epoch 366 / 500) train loss: 0.732574; val loss: 3.681981\n",
      "(Epoch 367 / 500) train loss: 0.738411; val loss: 3.722532\n",
      "(Epoch 368 / 500) train loss: 0.719914; val loss: 3.727286\n",
      "(Epoch 369 / 500) train loss: 0.747204; val loss: 3.718507\n",
      "(Epoch 370 / 500) train loss: 0.725676; val loss: 3.729410\n",
      "(Epoch 371 / 500) train loss: 0.710758; val loss: 3.731590\n",
      "(Epoch 372 / 500) train loss: 0.712437; val loss: 3.709314\n",
      "(Epoch 373 / 500) train loss: 0.703435; val loss: 3.695136\n",
      "(Epoch 374 / 500) train loss: 0.740932; val loss: 3.669749\n",
      "(Epoch 375 / 500) train loss: 0.707480; val loss: 3.680066\n",
      "(Epoch 376 / 500) train loss: 0.764326; val loss: 3.710817\n",
      "(Epoch 377 / 500) train loss: 0.847100; val loss: 3.820413\n",
      "(Epoch 378 / 500) train loss: 0.806013; val loss: 4.032040\n",
      "(Epoch 379 / 500) train loss: 0.854566; val loss: 4.104412\n",
      "(Epoch 380 / 500) train loss: 0.902760; val loss: 4.035792\n",
      "(Epoch 381 / 500) train loss: 0.899446; val loss: 3.962661\n",
      "(Epoch 382 / 500) train loss: 0.847201; val loss: 3.889470\n",
      "(Epoch 383 / 500) train loss: 0.854831; val loss: 3.899979\n",
      "(Epoch 384 / 500) train loss: 0.836656; val loss: 3.914314\n",
      "(Epoch 385 / 500) train loss: 0.781957; val loss: 3.837457\n",
      "(Epoch 386 / 500) train loss: 0.781709; val loss: 3.759421\n",
      "(Epoch 387 / 500) train loss: 0.911698; val loss: 3.802811\n",
      "(Epoch 388 / 500) train loss: 0.765774; val loss: 4.094169\n",
      "(Epoch 389 / 500) train loss: 0.954857; val loss: 4.091191\n",
      "(Epoch 390 / 500) train loss: 0.864237; val loss: 4.016256\n",
      "(Epoch 391 / 500) train loss: 0.926263; val loss: 3.941135\n",
      "(Epoch 392 / 500) train loss: 0.881368; val loss: 3.898203\n",
      "(Epoch 393 / 500) train loss: 0.829613; val loss: 3.947894\n",
      "(Epoch 394 / 500) train loss: 0.795388; val loss: 3.930755\n",
      "(Epoch 395 / 500) train loss: 0.766873; val loss: 3.832478\n",
      "(Epoch 396 / 500) train loss: 0.734331; val loss: 3.696946\n",
      "(Epoch 397 / 500) train loss: 0.739867; val loss: 3.661817\n",
      "(Epoch 398 / 500) train loss: 0.739771; val loss: 3.732174\n",
      "(Epoch 399 / 500) train loss: 0.738508; val loss: 3.772511\n",
      "(Epoch 400 / 500) train loss: 0.746469; val loss: 3.730249\n",
      "(Epoch 401 / 500) train loss: 0.734516; val loss: 3.697942\n",
      "(Epoch 402 / 500) train loss: 0.734480; val loss: 3.714954\n",
      "(Epoch 403 / 500) train loss: 0.714033; val loss: 3.749094\n",
      "(Epoch 404 / 500) train loss: 0.737529; val loss: 3.761308\n",
      "(Epoch 405 / 500) train loss: 0.724086; val loss: 3.744326\n",
      "(Epoch 406 / 500) train loss: 0.717727; val loss: 3.679578\n",
      "(Epoch 407 / 500) train loss: 0.723941; val loss: 3.665504\n",
      "(Epoch 408 / 500) train loss: 0.690864; val loss: 3.693874\n",
      "(Epoch 409 / 500) train loss: 0.716249; val loss: 3.706884\n",
      "(Epoch 410 / 500) train loss: 0.681255; val loss: 3.716322\n",
      "(Epoch 411 / 500) train loss: 0.765947; val loss: 3.695461\n",
      "(Epoch 412 / 500) train loss: 0.738870; val loss: 3.797118\n",
      "(Epoch 413 / 500) train loss: 0.823935; val loss: 3.809095\n",
      "(Epoch 414 / 500) train loss: 0.740575; val loss: 3.872271\n",
      "(Epoch 415 / 500) train loss: 0.779728; val loss: 3.913761\n",
      "(Epoch 416 / 500) train loss: 0.773169; val loss: 3.889824\n",
      "(Epoch 417 / 500) train loss: 0.752082; val loss: 3.837309\n",
      "(Epoch 418 / 500) train loss: 0.791981; val loss: 3.776131\n",
      "(Epoch 419 / 500) train loss: 0.699452; val loss: 3.710379\n",
      "(Epoch 420 / 500) train loss: 0.747362; val loss: 3.761647\n",
      "(Epoch 421 / 500) train loss: 0.768956; val loss: 3.770237\n",
      "(Epoch 422 / 500) train loss: 0.717637; val loss: 3.788698\n",
      "(Epoch 423 / 500) train loss: 0.754840; val loss: 3.807945\n",
      "(Epoch 424 / 500) train loss: 0.733885; val loss: 3.801905\n",
      "(Epoch 425 / 500) train loss: 0.694929; val loss: 3.717479\n",
      "(Epoch 426 / 500) train loss: 0.695938; val loss: 3.702349\n",
      "(Epoch 427 / 500) train loss: 0.711503; val loss: 3.733404\n",
      "(Epoch 428 / 500) train loss: 0.699276; val loss: 3.761398\n",
      "(Epoch 429 / 500) train loss: 0.696187; val loss: 3.741576\n",
      "(Epoch 430 / 500) train loss: 0.683257; val loss: 3.708223\n",
      "(Epoch 431 / 500) train loss: 0.709181; val loss: 3.706413\n",
      "(Epoch 432 / 500) train loss: 0.681233; val loss: 3.711393\n",
      "(Epoch 433 / 500) train loss: 0.731139; val loss: 3.705553\n",
      "(Epoch 434 / 500) train loss: 0.742900; val loss: 3.682701\n",
      "(Epoch 435 / 500) train loss: 0.751811; val loss: 3.725525\n",
      "(Epoch 436 / 500) train loss: 0.717468; val loss: 3.877944\n",
      "(Epoch 437 / 500) train loss: 0.748557; val loss: 3.933670\n",
      "(Epoch 438 / 500) train loss: 0.750276; val loss: 3.867654\n",
      "(Epoch 439 / 500) train loss: 0.777002; val loss: 3.795478\n",
      "(Epoch 440 / 500) train loss: 0.743086; val loss: 3.800196\n",
      "(Epoch 441 / 500) train loss: 0.721700; val loss: 3.795573\n",
      "(Epoch 442 / 500) train loss: 0.764207; val loss: 3.770357\n",
      "(Epoch 443 / 500) train loss: 0.716700; val loss: 3.718222\n",
      "(Epoch 444 / 500) train loss: 0.717025; val loss: 3.686272\n",
      "(Epoch 445 / 500) train loss: 0.702072; val loss: 3.687583\n",
      "(Epoch 446 / 500) train loss: 0.701310; val loss: 3.733392\n",
      "(Epoch 447 / 500) train loss: 0.726516; val loss: 3.757734\n",
      "(Epoch 448 / 500) train loss: 0.690416; val loss: 3.747381\n",
      "(Epoch 449 / 500) train loss: 0.731554; val loss: 3.734399\n",
      "(Epoch 450 / 500) train loss: 0.744853; val loss: 3.700698\n",
      "(Epoch 451 / 500) train loss: 0.719659; val loss: 3.719058\n",
      "(Epoch 452 / 500) train loss: 0.713415; val loss: 3.760186\n",
      "(Epoch 453 / 500) train loss: 0.709487; val loss: 3.748944\n",
      "(Epoch 454 / 500) train loss: 0.711180; val loss: 3.699735\n",
      "(Epoch 455 / 500) train loss: 0.707588; val loss: 3.672874\n",
      "(Epoch 456 / 500) train loss: 0.703553; val loss: 3.692910\n",
      "(Epoch 457 / 500) train loss: 0.695941; val loss: 3.700171\n",
      "(Epoch 458 / 500) train loss: 0.687006; val loss: 3.691933\n",
      "(Epoch 459 / 500) train loss: 0.682995; val loss: 3.705016\n",
      "(Epoch 460 / 500) train loss: 0.696535; val loss: 3.733609\n",
      "(Epoch 461 / 500) train loss: 0.687560; val loss: 3.775513\n",
      "(Epoch 462 / 500) train loss: 0.722400; val loss: 3.741249\n",
      "(Epoch 463 / 500) train loss: 0.698047; val loss: 3.690254\n",
      "(Epoch 464 / 500) train loss: 0.723391; val loss: 3.672114\n",
      "(Epoch 465 / 500) train loss: 0.690552; val loss: 3.690448\n",
      "(Epoch 466 / 500) train loss: 0.708150; val loss: 3.754541\n",
      "(Epoch 467 / 500) train loss: 0.715276; val loss: 3.755933\n",
      "(Epoch 468 / 500) train loss: 0.675500; val loss: 3.713939\n",
      "(Epoch 469 / 500) train loss: 0.726254; val loss: 3.689761\n",
      "(Epoch 470 / 500) train loss: 0.720698; val loss: 3.700514\n",
      "(Epoch 471 / 500) train loss: 0.701715; val loss: 3.697504\n",
      "(Epoch 472 / 500) train loss: 0.685895; val loss: 3.685917\n",
      "(Epoch 473 / 500) train loss: 0.696403; val loss: 3.714950\n",
      "(Epoch 474 / 500) train loss: 0.693807; val loss: 3.710046\n",
      "(Epoch 475 / 500) train loss: 0.704569; val loss: 3.740741\n",
      "(Epoch 476 / 500) train loss: 0.675085; val loss: 3.720510\n",
      "(Epoch 477 / 500) train loss: 0.703358; val loss: 3.698251\n",
      "(Epoch 478 / 500) train loss: 0.686587; val loss: 3.694007\n",
      "(Epoch 479 / 500) train loss: 0.702648; val loss: 3.705738\n",
      "(Epoch 480 / 500) train loss: 0.698468; val loss: 3.710959\n",
      "(Epoch 481 / 500) train loss: 0.703889; val loss: 3.694045\n",
      "(Epoch 482 / 500) train loss: 0.694021; val loss: 3.712531\n",
      "(Epoch 483 / 500) train loss: 0.694689; val loss: 3.722890\n",
      "(Epoch 484 / 500) train loss: 0.715336; val loss: 3.751221\n",
      "(Epoch 485 / 500) train loss: 0.730832; val loss: 3.749136\n",
      "(Epoch 486 / 500) train loss: 0.712856; val loss: 3.719816\n",
      "(Epoch 487 / 500) train loss: 0.726284; val loss: 3.695563\n",
      "(Epoch 488 / 500) train loss: 0.705532; val loss: 3.688584\n",
      "(Epoch 489 / 500) train loss: 0.719955; val loss: 3.736520\n",
      "(Epoch 490 / 500) train loss: 0.716666; val loss: 3.748382\n",
      "(Epoch 491 / 500) train loss: 0.733834; val loss: 3.740917\n",
      "(Epoch 492 / 500) train loss: 0.702814; val loss: 3.732879\n",
      "(Epoch 493 / 500) train loss: 0.731388; val loss: 3.763754\n",
      "(Epoch 494 / 500) train loss: 0.694610; val loss: 3.772608\n",
      "(Epoch 495 / 500) train loss: 0.710017; val loss: 3.746532\n",
      "(Epoch 496 / 500) train loss: 0.706870; val loss: 3.684576\n",
      "(Epoch 497 / 500) train loss: 0.697316; val loss: 3.679371\n",
      "(Epoch 498 / 500) train loss: 0.681331; val loss: 3.745434\n",
      "(Epoch 499 / 500) train loss: 0.712867; val loss: 3.774170\n",
      "(Epoch 500 / 500) train loss: 0.683603; val loss: 3.748927\n"
     ]
    }
   ],
   "source": [
    "from exercise_code.networks import MyOwnNetwork\n",
    "\n",
    "num_layer = 2\n",
    "epochs = 500\n",
    "reg = 0.1\n",
    "num_samples = 10\n",
    "\n",
    "model = ClassificationNet(num_layer=num_layer, reg=reg)\n",
    "# model = MyOwnNetwork()\n",
    "\n",
    "loss = CrossEntropyFromLogits\n",
    "\n",
    "# Make a new data loader with a our num_samples training image\n",
    "overfit_dataset = DATASET(\n",
    "    mode='train',\n",
    "    root=cifar_root, \n",
    "    download_url=download_url,\n",
    "    transform=compose_transform,\n",
    "    limit_files=num_samples\n",
    ")\n",
    "dataloaders['train_overfit_10samples'] = DataLoader(\n",
    "    dataset=overfit_dataset,\n",
    "    batch_size=batch_size,\n",
    "    shuffle=True,\n",
    "    drop_last=False,\n",
    ")\n",
    "\n",
    "solver = Solver(model, dataloaders['train_overfit_10samples'], dataloaders['val_500files'], \n",
    "                learning_rate=1e-3, loss_func=loss, optimizer=Adam)\n",
    "\n",
    "solver.train(epochs=epochs)"
   ]
  },
  {
   "cell_type": "code",
   "execution_count": 41,
   "metadata": {
    "colab": {
     "base_uri": "https://localhost:8080/"
    },
    "executionInfo": {
     "elapsed": 15,
     "status": "ok",
     "timestamp": 1650011794380,
     "user": {
      "displayName": "Weber Anna",
      "userId": "18154618360144454414"
     },
     "user_tz": -120
    },
    "id": "DmzTCYw_N5en",
    "outputId": "8076912f-608c-497c-e092-3da5e9e8ddcd"
   },
   "outputs": [
    {
     "data": {
      "image/png": "[encoded data removed]",
      "text/plain": [
       "<Figure size 1000x800 with 1 Axes>"
      ]
     },
     "metadata": {},
     "output_type": "display_data"
    }
   ],
   "source": [
    "plt.title('Loss curves')\n",
    "plt.plot(solver.train_loss_history, '-', label='train')\n",
    "plt.plot(solver.val_loss_history, '-', label='val')\n",
    "plt.legend(loc='lower right')\n",
    "plt.xlabel('Iteration')\n",
    "plt.show()"
   ]
  },
  {
   "cell_type": "code",
   "execution_count": 21,
   "metadata": {
    "colab": {
     "base_uri": "https://localhost:8080/"
    },
    "executionInfo": {
     "elapsed": 822,
     "status": "ok",
     "timestamp": 1650011795194,
     "user": {
      "displayName": "Weber Anna",
      "userId": "18154618360144454414"
     },
     "user_tz": -120
    },
    "id": "8H8xyMcaN5en",
    "outputId": "55c1d949-949d-414f-8a34-fa85faa9ed9b"
   },
   "outputs": [
    {
     "name": "stdout",
     "output_type": "stream",
     "text": [
      "Training accuray: 1.00000\n",
      "Validation accuray: 0.07000\n"
     ]
    }
   ],
   "source": [
    "print(\"Training accuray: %.5f\" % (solver.get_dataset_accuracy(dataloaders['train_overfit_10samples'])))\n",
    "print(\"Validation accuray: %.5f\" % (solver.get_dataset_accuracy(dataloaders['val_500files'])))"
   ]
  },
  {
   "cell_type": "markdown",
   "metadata": {
    "id": "7PoTJskAN5en"
   },
   "source": [
    "If you're overfitting to the training data, that means the network's implementation is correct. However, as you have more samples to overfit, your accuracy will be way lower. You can increase the number of epochs above to achieve better results.\n",
    "\n",
    "Now let's try to feed all the training and validation data into the network, but this time let's set compare a 2-layer and a 5-layer network, using the same hyperparameters.\n",
    "\n",
    "<div class=\"alert alert-warning\">\n",
    "    <h3>Note:</h3>\n",
    "    <p>This may take about 1 min per epoch as the training set is quite large. For convenience, we are now only using 1000 images for training but use the full validation set.</p>\n",
    "</div>"
   ]
  },
  {
   "cell_type": "code",
   "execution_count": 30,
   "metadata": {
    "colab": {
     "background_save": true
    },
    "id": "ayhMGBUBN5en",
    "outputId": "0f77d4ee-a8c9-4ddc-e538-c1818c306acf"
   },
   "outputs": [
    {
     "name": "stdout",
     "output_type": "stream",
     "text": [
      "(Epoch 1 / 5) train loss: 2.028967; val loss: 1.882727\n",
      "(Epoch 2 / 5) train loss: 1.813741; val loss: 1.787326\n",
      "(Epoch 3 / 5) train loss: 1.731187; val loss: 1.750025\n",
      "(Epoch 4 / 5) train loss: 1.677689; val loss: 1.720150\n",
      "(Epoch 5 / 5) train loss: 1.637515; val loss: 1.707022\n"
     ]
    }
   ],
   "source": [
    "from exercise_code.networks import MyOwnNetwork\n",
    "\n",
    "num_layer = 2\n",
    "epochs = 5\n",
    "reg = 1e-4\n",
    "\n",
    "# Make a new data loader with 1000 training samples\n",
    "num_samples = 500\n",
    "overfit_dataset = DATASET(\n",
    "    mode='train',\n",
    "    root=cifar_root, \n",
    "    download_url=download_url,\n",
    "    transform=compose_transform,\n",
    "    limit_files=num_samples\n",
    ")\n",
    "dataloaders['train_small'] = DataLoader(\n",
    "    dataset=overfit_dataset,\n",
    "    batch_size=batch_size,\n",
    "    shuffle=True,\n",
    "    drop_last=False,\n",
    ")\n",
    "\n",
    "\n",
    "\n",
    "\n",
    "# Change here if you want to use the full training set\n",
    "use_full_training_set = True\n",
    "if use_full_training_set:\n",
    "    train_loader =  dataloaders['train']\n",
    "else:\n",
    "    train_loader = dataloaders['train_small']\n",
    "    \n",
    "\n",
    "model = ClassificationNet(num_layer=num_layer, reg=reg)\n",
    "# model = MyOwnNetwork()\n",
    "\n",
    "loss = CrossEntropyFromLogits\n",
    "\n",
    "solver = Solver(model, train_loader, dataloaders['val'], \n",
    "                learning_rate=1e-3, loss_func=loss, optimizer=Adam)\n",
    "\n",
    "solver.train(epochs=epochs)"
   ]
  },
  {
   "cell_type": "code",
   "execution_count": 31,
   "metadata": {
    "colab": {
     "background_save": true
    },
    "id": "3htGtgttN5en",
    "outputId": "6336d86c-13c1-40e5-9080-7aa5ed774959"
   },
   "outputs": [
    {
     "data": {
      "image/png": "[encoded data removed]",
      "text/plain": [
       "<Figure size 1000x800 with 1 Axes>"
      ]
     },
     "metadata": {},
     "output_type": "display_data"
    }
   ],
   "source": [
    "plt.title('Loss curves')\n",
    "plt.plot(solver.train_loss_history, '-', label='train')\n",
    "plt.plot(solver.val_loss_history, '-', label='val')\n",
    "plt.legend(loc='lower right')\n",
    "plt.xlabel('Iteration')\n",
    "plt.show()"
   ]
  },
  {
   "cell_type": "code",
   "execution_count": 32,
   "metadata": {
    "colab": {
     "background_save": true
    },
    "id": "oOVafQ7yN5eo",
    "outputId": "7207ecce-50aa-4e80-83ee-1d05529ab23a"
   },
   "outputs": [
    {
     "name": "stdout",
     "output_type": "stream",
     "text": [
      "Training accuray: 0.45085\n",
      "Validation accuray: 0.40895\n"
     ]
    }
   ],
   "source": [
    "print(\"Training accuray: %.5f\" % (solver.get_dataset_accuracy(train_loader)))\n",
    "print(\"Validation accuray: %.5f\" % (solver.get_dataset_accuracy(dataloaders['val'])))"
   ]
  },
  {
   "cell_type": "code",
   "execution_count": 33,
   "metadata": {
    "colab": {
     "background_save": true
    },
    "id": "vG9U5OmwN5eo",
    "outputId": "4aa8426b-eea9-4be8-bc08-6add66c4cf82"
   },
   "outputs": [
    {
     "name": "stdout",
     "output_type": "stream",
     "text": [
      "(Epoch 1 / 5) train loss: 2.304691; val loss: 2.304449\n",
      "(Epoch 2 / 5) train loss: 2.304026; val loss: 2.303807\n",
      "(Epoch 3 / 5) train loss: 2.303930; val loss: 2.303753\n",
      "(Epoch 4 / 5) train loss: 2.304116; val loss: 2.303486\n",
      "(Epoch 5 / 5) train loss: 2.303936; val loss: 2.303669\n"
     ]
    }
   ],
   "source": [
    "from exercise_code.networks import MyOwnNetwork\n",
    "\n",
    "num_layer = 5\n",
    "epochs = 5\n",
    "reg = 1e-4\n",
    "\n",
    "model = ClassificationNet(num_layer=num_layer, reg=reg)\n",
    "# model = MyOwnNetwork()\n",
    "\n",
    "# Change here if you want to use the full training set\n",
    "use_full_training_set = True\n",
    "if not use_full_training_set:\n",
    "    train_loader = dataloaders['train_small']\n",
    "else:\n",
    "    train_loader = dataloaders['train']\n",
    "\n",
    "loss = CrossEntropyFromLogits\n",
    "\n",
    "solver = Solver(model, train_loader, dataloaders['val'], \n",
    "                learning_rate=1e-3, loss_func=loss, optimizer=Adam)\n",
    "\n",
    "solver.train(epochs=epochs)"
   ]
  },
  {
   "cell_type": "code",
   "execution_count": 34,
   "metadata": {
    "colab": {
     "background_save": true
    },
    "id": "08XZk2GYN5eo",
    "outputId": "3d04c7c9-a0ce-4522-c858-e9491fca8102"
   },
   "outputs": [
    {
     "data": {
      "image/png": "[encoded data removed]",
      "text/plain": [
       "<Figure size 1000x800 with 1 Axes>"
      ]
     },
     "metadata": {},
     "output_type": "display_data"
    }
   ],
   "source": [
    "plt.title('Loss curves')\n",
    "plt.plot(solver.train_loss_history, '-', label='train')\n",
    "plt.plot(solver.val_loss_history, '-', label='val')\n",
    "plt.legend(loc='lower right')\n",
    "plt.xlabel('Iteration')\n",
    "plt.show()"
   ]
  },
  {
   "cell_type": "code",
   "execution_count": 35,
   "metadata": {
    "colab": {
     "background_save": true
    },
    "id": "7-sI0yyWN5eo",
    "outputId": "29f489a2-6899-410e-9e82-8026cb77d505"
   },
   "outputs": [
    {
     "name": "stdout",
     "output_type": "stream",
     "text": [
      "Training accuray: 0.10009\n",
      "Validation accuray: 0.09896\n"
     ]
    }
   ],
   "source": [
    "print(\"Training accuray: %.5f\" % (solver.get_dataset_accuracy(train_loader)))\n",
    "print(\"Validation accuray: %.5f\" % (solver.get_dataset_accuracy(dataloaders['val'])))"
   ]
  },
  {
   "cell_type": "markdown",
   "metadata": {
    "id": "_nNdnSi4N5eo"
   },
   "source": [
    "As you can see from above, the same hyperparameter set can decrease the loss for a 2-layer network, but for 5-layer network, it hardly works.\n",
    "\n",
    "The steps above are already mentioned in the lectures as debugging steps before training a neural network. \n",
    "\n",
    "If you implement your own network, make sure you do the steps above before tuning the hyperparameters as below. "
   ]
  },
  {
   "cell_type": "markdown",
   "metadata": {
    "id": "l0pZa4weN5eo"
   },
   "source": [
    "## 2.2 Difficulty in tuning hyperparameters\n",
    "Small decisions on hyperparameters count. Usually, but not always, hyperparameters cannot be learned using well known gradient based methods (such as gradient descent), which are commonly employed to learn parameters. \n",
    "\n",
    "As mentioned before, hyperparameters need to be set before training. Tuning hyperparameters is hard, because you always have to try different combinations of the hyperparameters, train the network, do the validation and pick the best one. Besides, it is not guaranteed that you'll find the best combination.\n",
    "\n",
    "Let's do some hands on learning using the hyperparameter tuning methods covered in the lectures."
   ]
  },
  {
   "cell_type": "markdown",
   "metadata": {
    "id": "pDQl6fY6N5ep"
   },
   "source": [
    "# 3. Hyperparameter Tuning\n",
    "\n",
    "![alt text](https://blog.floydhub.com/content/images/2018/08/Screen-Shot-2018-08-22-at-17.59.25.png \"\")\n",
    "\n",
    "One of the main challenges in deep learning is finding the set of hyperparameters that performs best.\n",
    "\n",
    "So far, we have followed a manual approach by guessing hyperparameters, running the model, observing the result and maybe tweaking the hyperparameters based on this result. As you have probably noticed, this manual hyperparameter tuning is unstructured, inefficient and can become very tedious.\n",
    "\n",
    "\n",
    "A more systematic (and actually very simple) approach for hyperparameter tuning that you've already learned in the lecture  is implementing a **Grid Search**. \n",
    "\n",
    "\n",
    "\n",
    "## 3.1 Grid Search\n",
    "Grid search is a simple and naive, yet effective method to automate the hyperparameter tuning:\n",
    "\n",
    "* First, you define the set of parameters you want to tune, e.g. $\\{learning\\_rate, regularization\\_strength\\}$.\n",
    "\n",
    "* For each hyperparameter, you then define a set of possible values, e.g. $learning\\_rate = \\{0.0001, 0.001, 0.01, 0.1\\}$.\n",
    "\n",
    "* Then, you train a model for every possible combination of these hyperparameter values and afterwards select the combination that works best (e.g. in terms of accuracy on your validation set).\n",
    "\n",
    "<div class=\"alert alert-success\">\n",
    "    <h3>Task: Check Code</h3>\n",
    "    <p>Check out our <code>grid_search</code> implementation in <code>../exercise_6/exercise_code/hyperparameter_tuning.py</code>. We show a simple for loop implementation and a more sophisticated one for multiple inputs. </p>\n",
    "</div>\n",
    " \n",
    " <div class=\"alert alert-warning\">\n",
    "    <h3>Note:</h3>\n",
    "    <p>To keep things simple in the beginning, it'll be enough to just focus on the hyperparameters <code>learning_rate</code> and <code>regularization_strength</code> here, as in the example above.</p>\n",
    "</div>"
   ]
  },
  {
   "cell_type": "code",
   "execution_count": 28,
   "metadata": {
    "colab": {
     "background_save": true
    },
    "id": "BBW9Vl4rN5ep",
    "outputId": "39d57fd3-e250-4826-d0b6-89952b9ae73b"
   },
   "outputs": [
    {
     "name": "stdout",
     "output_type": "stream",
     "text": [
      "\n",
      "Evaluating Config #1 [of 3]:\n",
      " {'learning_rate': 0.01, 'reg': 0.0001}\n",
      "(Epoch 1 / 10) train loss: 2.530500; val loss: 2.354634\n",
      "(Epoch 2 / 10) train loss: 2.505676; val loss: 2.551985\n"
     ]
    },
    {
     "ename": "KeyboardInterrupt",
     "evalue": "",
     "output_type": "error",
     "traceback": [
      "\u001b[1;31m---------------------------------------------------------------------------\u001b[0m",
      "\u001b[1;31mKeyboardInterrupt\u001b[0m                         Traceback (most recent call last)",
      "Cell \u001b[1;32mIn[28], line 7\u001b[0m\n\u001b[0;32m      4\u001b[0m model_class \u001b[38;5;241m=\u001b[39m ClassificationNet\n\u001b[0;32m      6\u001b[0m \u001b[38;5;28;01mfrom\u001b[39;00m \u001b[38;5;21;01mexercise_code\u001b[39;00m \u001b[38;5;28;01mimport\u001b[39;00m hyperparameter_tuning\n\u001b[1;32m----> 7\u001b[0m best_model, best_config, results  \u001b[38;5;241m=\u001b[39m hyperparameter_tuning\u001b[38;5;241m.\u001b[39mgrid_search(\n\u001b[0;32m      8\u001b[0m     dataloaders[\u001b[38;5;124m'\u001b[39m\u001b[38;5;124mtrain_small\u001b[39m\u001b[38;5;124m'\u001b[39m], dataloaders[\u001b[38;5;124m'\u001b[39m\u001b[38;5;124mval_500files\u001b[39m\u001b[38;5;124m'\u001b[39m],\n\u001b[0;32m      9\u001b[0m     grid_search_spaces \u001b[38;5;241m=\u001b[39m {\n\u001b[0;32m     10\u001b[0m         \u001b[38;5;124m\"\u001b[39m\u001b[38;5;124mlearning_rate\u001b[39m\u001b[38;5;124m\"\u001b[39m: [\u001b[38;5;241m1e-2\u001b[39m, \u001b[38;5;241m1e-3\u001b[39m, \u001b[38;5;241m1e-4\u001b[39m], \n\u001b[0;32m     11\u001b[0m         \u001b[38;5;124m\"\u001b[39m\u001b[38;5;124mreg\u001b[39m\u001b[38;5;124m\"\u001b[39m: [\u001b[38;5;241m1e-4\u001b[39m]\n\u001b[0;32m     12\u001b[0m     },\n\u001b[0;32m     13\u001b[0m     model_class\u001b[38;5;241m=\u001b[39mmodel_class,\n\u001b[0;32m     14\u001b[0m     epochs\u001b[38;5;241m=\u001b[39m\u001b[38;5;241m10\u001b[39m, patience\u001b[38;5;241m=\u001b[39m\u001b[38;5;241m5\u001b[39m)\n",
      "File \u001b[1;32m~\\i2dl\\exercise_06\\exercise_code\\hyperparameter_tuning.py:57\u001b[0m, in \u001b[0;36mgrid_search\u001b[1;34m(train_loader, val_loader, grid_search_spaces, model_class, epochs, patience)\u001b[0m\n\u001b[0;32m     54\u001b[0m \u001b[38;5;28;01mfor\u001b[39;00m instance \u001b[38;5;129;01min\u001b[39;00m product(\u001b[38;5;241m*\u001b[39mgrid_search_spaces\u001b[38;5;241m.\u001b[39mvalues()):\n\u001b[0;32m     55\u001b[0m     configs\u001b[38;5;241m.\u001b[39mappend(\u001b[38;5;28mdict\u001b[39m(\u001b[38;5;28mzip\u001b[39m(grid_search_spaces\u001b[38;5;241m.\u001b[39mkeys(), instance)))\n\u001b[1;32m---> 57\u001b[0m \u001b[38;5;28;01mreturn\u001b[39;00m findBestConfig(train_loader, val_loader, configs, epochs, patience,\n\u001b[0;32m     58\u001b[0m                       model_class)\n",
      "File \u001b[1;32m~\\i2dl\\exercise_06\\exercise_code\\hyperparameter_tuning.py:109\u001b[0m, in \u001b[0;36mfindBestConfig\u001b[1;34m(train_loader, val_loader, configs, EPOCHS, PATIENCE, model_class)\u001b[0m\n\u001b[0;32m    107\u001b[0m model \u001b[38;5;241m=\u001b[39m model_class(\u001b[38;5;241m*\u001b[39m\u001b[38;5;241m*\u001b[39mconfigs[i])\n\u001b[0;32m    108\u001b[0m solver \u001b[38;5;241m=\u001b[39m Solver(model, train_loader, val_loader, \u001b[38;5;241m*\u001b[39m\u001b[38;5;241m*\u001b[39mconfigs[i])\n\u001b[1;32m--> 109\u001b[0m solver\u001b[38;5;241m.\u001b[39mtrain(epochs\u001b[38;5;241m=\u001b[39mEPOCHS, patience\u001b[38;5;241m=\u001b[39mPATIENCE)\n\u001b[0;32m    110\u001b[0m results\u001b[38;5;241m.\u001b[39mappend(solver\u001b[38;5;241m.\u001b[39mbest_model_stats)\n\u001b[0;32m    112\u001b[0m \u001b[38;5;28;01mif\u001b[39;00m \u001b[38;5;129;01mnot\u001b[39;00m best_val \u001b[38;5;129;01mor\u001b[39;00m solver\u001b[38;5;241m.\u001b[39mbest_model_stats[\u001b[38;5;124m\"\u001b[39m\u001b[38;5;124mval_loss\u001b[39m\u001b[38;5;124m\"\u001b[39m] \u001b[38;5;241m<\u001b[39m best_val:\n",
      "File \u001b[1;32m~\\i2dl\\exercise_06\\exercise_code\\solver.py:144\u001b[0m, in \u001b[0;36mSolver.train\u001b[1;34m(self, epochs, patience)\u001b[0m\n\u001b[0;32m    142\u001b[0m \u001b[38;5;66;03m# Update the model parameters.\u001b[39;00m\n\u001b[0;32m    143\u001b[0m validate \u001b[38;5;241m=\u001b[39m \u001b[38;5;28;01mFalse\u001b[39;00m\n\u001b[1;32m--> 144\u001b[0m train_loss \u001b[38;5;241m=\u001b[39m \u001b[38;5;28mself\u001b[39m\u001b[38;5;241m.\u001b[39m_step(X, y, validation\u001b[38;5;241m=\u001b[39mvalidate)\n\u001b[0;32m    146\u001b[0m \u001b[38;5;28mself\u001b[39m\u001b[38;5;241m.\u001b[39mtrain_batch_loss\u001b[38;5;241m.\u001b[39mappend(train_loss)\n\u001b[0;32m    147\u001b[0m train_epoch_loss \u001b[38;5;241m+\u001b[39m\u001b[38;5;241m=\u001b[39m train_loss\n",
      "File \u001b[1;32m~\\i2dl\\exercise_06\\exercise_code\\solver.py:119\u001b[0m, in \u001b[0;36mSolver._step\u001b[1;34m(self, X, y, validation)\u001b[0m\n\u001b[0;32m    117\u001b[0m \u001b[38;5;28mself\u001b[39m\u001b[38;5;241m.\u001b[39mopt\u001b[38;5;241m.\u001b[39mbackward(y_pred, y)\n\u001b[0;32m    118\u001b[0m \u001b[38;5;66;03m# Update weights\u001b[39;00m\n\u001b[1;32m--> 119\u001b[0m \u001b[38;5;28mself\u001b[39m\u001b[38;5;241m.\u001b[39mopt\u001b[38;5;241m.\u001b[39mstep()\n\u001b[0;32m    120\u001b[0m \u001b[38;5;66;03m# If it was a training step, we need to count operations for\u001b[39;00m\n\u001b[0;32m    121\u001b[0m \u001b[38;5;66;03m# backpropagation as well\u001b[39;00m\n\u001b[0;32m    122\u001b[0m \u001b[38;5;28mself\u001b[39m\u001b[38;5;241m.\u001b[39mnum_operation \u001b[38;5;241m+\u001b[39m\u001b[38;5;241m=\u001b[39m \u001b[38;5;28mself\u001b[39m\u001b[38;5;241m.\u001b[39mmodel\u001b[38;5;241m.\u001b[39mnum_operation\n",
      "File \u001b[1;32m~\\i2dl\\exercise_06\\exercise_code\\networks\\optimizer.py:238\u001b[0m, in \u001b[0;36mAdam.step\u001b[1;34m(self)\u001b[0m\n\u001b[0;32m    235\u001b[0m config \u001b[38;5;241m=\u001b[39m \u001b[38;5;28mself\u001b[39m\u001b[38;5;241m.\u001b[39moptim_configs[name]\n\u001b[0;32m    237\u001b[0m \u001b[38;5;66;03m# Update the parameter\u001b[39;00m\n\u001b[1;32m--> 238\u001b[0m w_updated, config \u001b[38;5;241m=\u001b[39m \u001b[38;5;28mself\u001b[39m\u001b[38;5;241m.\u001b[39m_update(w, dw, config, lr\u001b[38;5;241m=\u001b[39m\u001b[38;5;28mself\u001b[39m\u001b[38;5;241m.\u001b[39mlr)\n\u001b[0;32m    239\u001b[0m \u001b[38;5;28mself\u001b[39m\u001b[38;5;241m.\u001b[39mmodel\u001b[38;5;241m.\u001b[39mparams[name] \u001b[38;5;241m=\u001b[39m w_updated\n\u001b[0;32m    240\u001b[0m \u001b[38;5;28mself\u001b[39m\u001b[38;5;241m.\u001b[39moptim_configs[name] \u001b[38;5;241m=\u001b[39m config\n",
      "File \u001b[1;32m~\\i2dl\\exercise_06\\exercise_code\\networks\\optimizer.py:194\u001b[0m, in \u001b[0;36mAdam._update\u001b[1;34m(self, w, dw, config, lr)\u001b[0m\n\u001b[0;32m    192\u001b[0m config\u001b[38;5;241m.\u001b[39msetdefault(\u001b[38;5;124m'\u001b[39m\u001b[38;5;124mepsilon\u001b[39m\u001b[38;5;124m'\u001b[39m, \u001b[38;5;241m1e-4\u001b[39m)\n\u001b[0;32m    193\u001b[0m config\u001b[38;5;241m.\u001b[39msetdefault(\u001b[38;5;124m'\u001b[39m\u001b[38;5;124mm\u001b[39m\u001b[38;5;124m'\u001b[39m, np\u001b[38;5;241m.\u001b[39mzeros_like(w))\n\u001b[1;32m--> 194\u001b[0m config\u001b[38;5;241m.\u001b[39msetdefault(\u001b[38;5;124m'\u001b[39m\u001b[38;5;124mv\u001b[39m\u001b[38;5;124m'\u001b[39m, np\u001b[38;5;241m.\u001b[39mzeros_like(w))\n\u001b[0;32m    195\u001b[0m config\u001b[38;5;241m.\u001b[39msetdefault(\u001b[38;5;124m'\u001b[39m\u001b[38;5;124mt\u001b[39m\u001b[38;5;124m'\u001b[39m, \u001b[38;5;241m0\u001b[39m)\n\u001b[0;32m    196\u001b[0m next_w \u001b[38;5;241m=\u001b[39m \u001b[38;5;28;01mNone\u001b[39;00m\n",
      "File \u001b[1;32m<__array_function__ internals>:200\u001b[0m, in \u001b[0;36mzeros_like\u001b[1;34m(*args, **kwargs)\u001b[0m\n",
      "File \u001b[1;32m~\\anaconda3\\Lib\\site-packages\\numpy\\core\\numeric.py:142\u001b[0m, in \u001b[0;36mzeros_like\u001b[1;34m(a, dtype, order, subok, shape)\u001b[0m\n\u001b[0;32m    140\u001b[0m \u001b[38;5;66;03m# needed instead of a 0 to get same result as zeros for string dtypes\u001b[39;00m\n\u001b[0;32m    141\u001b[0m z \u001b[38;5;241m=\u001b[39m zeros(\u001b[38;5;241m1\u001b[39m, dtype\u001b[38;5;241m=\u001b[39mres\u001b[38;5;241m.\u001b[39mdtype)\n\u001b[1;32m--> 142\u001b[0m multiarray\u001b[38;5;241m.\u001b[39mcopyto(res, z, casting\u001b[38;5;241m=\u001b[39m\u001b[38;5;124m'\u001b[39m\u001b[38;5;124munsafe\u001b[39m\u001b[38;5;124m'\u001b[39m)\n\u001b[0;32m    143\u001b[0m \u001b[38;5;28;01mreturn\u001b[39;00m res\n",
      "File \u001b[1;32m<__array_function__ internals>:200\u001b[0m, in \u001b[0;36mcopyto\u001b[1;34m(*args, **kwargs)\u001b[0m\n",
      "\u001b[1;31mKeyboardInterrupt\u001b[0m: "
     ]
    }
   ],
   "source": [
    "from exercise_code.networks import MyOwnNetwork\n",
    "\n",
    "# Specify the used network\n",
    "model_class = ClassificationNet\n",
    "\n",
    "from exercise_code import hyperparameter_tuning\n",
    "best_model, best_config, results  = hyperparameter_tuning.grid_search(\n",
    "    dataloaders['train_small'], dataloaders['val_500files'],\n",
    "    grid_search_spaces = {\n",
    "        \"learning_rate\": [1e-2, 1e-3, 1e-4], \n",
    "        \"reg\": [1e-4]\n",
    "    },\n",
    "    model_class=model_class,\n",
    "    epochs=10, patience=5)"
   ]
  },
  {
   "cell_type": "markdown",
   "metadata": {
    "id": "5v0g7q9xN5ep"
   },
   "source": [
    "From the results of your grid search, you might already have found some hyperparameter combinations that work better than others. A common practice is to now repeat the grid search on a more narrow domain centered around the parameters that worked best. \n",
    "\n",
    "**Conclusion Grid Search**\n",
    "\n",
    "With grid search we have automated the hyperparameter tuning to a certain degree. Another advantage is, that since the trainings of the models are independent of each other, you can parallelize the grid search, by e.g. trying out different hyperparameter configurations in parallel on different machines.\n",
    "\n",
    "However, as you have probably noticed, there is one big problem with this approach: the number of possible combinations grows exponentially with the number of hyperparameters (\"curse of dimensionality\"). As we add more hyperparameters to the grid search, the search space will explode in time complexity, making this strategy unfeasible."
   ]
  },
  {
   "cell_type": "markdown",
   "metadata": {
    "id": "m_NvhoFcN5ep"
   },
   "source": [
    "Especially when your search space contains more than 3 or 4 dimensions, it is often better to use another, similar hyperparameter tuning method that you've already learned about: random search."
   ]
  },
  {
   "cell_type": "markdown",
   "metadata": {
    "id": "rDyeiAN1N5ep"
   },
   "source": [
    "## 3.2 Random Search\n",
    "Random search is very similar to grid search, with the only difference, that instead of providing specific values for every hyperparameter, you only define a range for each hyperparameter - then, the values are sampled randomly from the provided ranges.\n",
    "\n",
    "![alt text](https://i.stack.imgur.com/cIDuR.png \"\")\n",
    "\n",
    "The figure above illustrates the difference in the hyperparameter space exploration between grid search and random search: assume you have 2 hyperparameters with each 3 values. Running a grid search results in training $3^2=9$ different models - but in the end, you've just tired out 3 values for each parameter. For random search on the other hand, after training 9 models you'll have tried out 9 different values for each hyperparameter, which often leads much faster to good results.\n",
    "\n",
    "To get a deeper understanding of random search and why it is more efficient than grid search, you should definitely check out this paper: http://www.jmlr.org/papers/volume13/bergstra12a/bergstra12a.pdf\n",
    "\n",
    "<div class=\"alert alert-success\">\n",
    "    <h3>Task: Check Code</h3>\n",
    "    <p>Check out our <code>random_search</code> implementation in <code>../exercise_6/exercise_code/hyperparameter_tuning.py</code></p>\n",
    "</div>\n",
    "\n",
    "\n",
    "*Hint: regarding the sample space of each parameter, think about the scale for which it makes most sense to sample in. For example the learning rate is usually sampled on a logarithmic scale!*\n",
    "\n",
    "*For simplicity and speed, just use the `train_small`-dataloader!*"
   ]
  },
  {
   "cell_type": "code",
   "execution_count": 17,
   "metadata": {
    "colab": {
     "background_save": true
    },
    "id": "d64soT68N5ep",
    "outputId": "eafe47b6-33db-401e-8d4e-96573caa8048"
   },
   "outputs": [
    {
     "name": "stdout",
     "output_type": "stream",
     "text": [
      "\n",
      "Evaluating Config #1 [of 1]:\n",
      " {'learning_rate': 0.00014193239763765267, 'reg': 9.231499044947883e-06, 'loss_func': <class 'exercise_code.networks.loss.CrossEntropyFromLogits'>}\n",
      "(Epoch 1 / 20) train loss: 2.297348; val loss: 2.278561\n",
      "(Epoch 2 / 20) train loss: 2.259031; val loss: 2.219258\n",
      "(Epoch 3 / 20) train loss: 2.200847; val loss: 2.165337\n",
      "(Epoch 4 / 20) train loss: 2.142190; val loss: 2.126786\n",
      "(Epoch 5 / 20) train loss: 2.088860; val loss: 2.089219\n",
      "(Epoch 6 / 20) train loss: 2.039796; val loss: 2.057783\n",
      "(Epoch 7 / 20) train loss: 1.996024; val loss: 2.034208\n",
      "(Epoch 8 / 20) train loss: 1.955055; val loss: 2.019756\n",
      "(Epoch 9 / 20) train loss: 1.918788; val loss: 2.001345\n",
      "(Epoch 10 / 20) train loss: 1.880685; val loss: 1.995509\n",
      "(Epoch 11 / 20) train loss: 1.841107; val loss: 1.980383\n",
      "(Epoch 12 / 20) train loss: 1.804601; val loss: 1.968948\n",
      "(Epoch 13 / 20) train loss: 1.763591; val loss: 1.958778\n",
      "(Epoch 14 / 20) train loss: 1.727175; val loss: 1.955129\n",
      "(Epoch 15 / 20) train loss: 1.690400; val loss: 1.950088\n",
      "(Epoch 16 / 20) train loss: 1.651533; val loss: 1.940671\n",
      "(Epoch 17 / 20) train loss: 1.610116; val loss: 1.939797\n",
      "(Epoch 18 / 20) train loss: 1.571921; val loss: 1.924995\n",
      "(Epoch 19 / 20) train loss: 1.535453; val loss: 1.939619\n",
      "(Epoch 20 / 20) train loss: 1.497566; val loss: 1.942726\n",
      "\n",
      "Search done. Best Val Loss = 1.9249954131723215\n",
      "Best Config: {'learning_rate': 0.00014193239763765267, 'reg': 9.231499044947883e-06, 'loss_func': <class 'exercise_code.networks.loss.CrossEntropyFromLogits'>}\n"
     ]
    }
   ],
   "source": [
    "from exercise_code.hyperparameter_tuning import random_search\n",
    "from exercise_code.networks import MyOwnNetwork\n",
    "\n",
    "# Specify the used network\n",
    "model_class = ClassificationNet\n",
    "\n",
    "best_model, best_config, results  = random_search(\n",
    "    dataloaders['train_small'], dataloaders['val_500files'],\n",
    "    random_search_spaces = {\n",
    "        \"learning_rate\": ([1e-2, 1e-6], 'log'),\n",
    "        \"reg\": ([1e-3, 1e-7], \"log\"),\n",
    "        \"loss_func\": ([CrossEntropyFromLogits], \"item\")\n",
    "    },\n",
    "    model_class=model_class,\n",
    "    num_search = 1, epochs=20, patience=5)"
   ]
  },
  {
   "cell_type": "markdown",
   "metadata": {
    "id": "LayF5YYbN5eq"
   },
   "source": [
    "It's time to run it with the whole dataset, and let it search for a few hours for a nice configuration. \n",
    "\n",
    "However, to save some time, let's first implement an **early-stopping** mechanism, that you also already know from the lecture."
   ]
  },
  {
   "cell_type": "markdown",
   "metadata": {
    "id": "DCaACnn3N5eq"
   },
   "source": [
    "## 3.3 Early Stopping"
   ]
  },
  {
   "cell_type": "markdown",
   "metadata": {
    "id": "IjsO1OPLN5eq"
   },
   "source": [
    "By now you've already seen a lot of training curves:\n",
    "\n",
    "<img src=http://fouryears.eu/wp-content/uploads/2017/12/early_stopping.png></img>\n",
    "\n",
    "Usually, at some point the validation loss goes up again, which is a sign that we're overfitting to our training data. Since it actually doesn't make sense to train further at this point, it's common practice to apply \"early stopping\", i.e., cancel the training process when the validation loss doesn't improve anymore. The nice thing about this concept is, that not only it improves generalization through the prevention of overfitting, but also it saves us a lot of time - one of our most valuable resources in deep learning.\n",
    "\n",
    "Since there are natural fluctuations in the validation loss, you usually don't cancel the training process right at the first epoch when the validation-loss increases, but instead, you wait for some epochs (specified by the `patience`-parameter) and if the loss still doesn't improve, we stop.\n",
    "\n",
    "<div class=\"alert alert-success\">\n",
    "    <h3>Task: Check Code</h3>\n",
    "    <p>Please check the implementation of the early stopping mechanism in <code>../exercise_6/exercise_code/solver.py</code>.\n",
    " </p>\n",
    "</div>"
   ]
  },
  {
   "cell_type": "markdown",
   "metadata": {
    "id": "P8wWTovfN5eq"
   },
   "source": [
    "## 3.4 Let's find the perfect model!"
   ]
  },
  {
   "cell_type": "markdown",
   "metadata": {
    "id": "ksUYQAhgN5eq"
   },
   "source": [
    "Now you've set everything up and you are ready to train your model. You can use a combination of grid and random search to find proper hyperparameters. \n",
    "\n",
    "Be aware that this process will take some time, since we'll be using a much larger dataset.\n",
    "\n",
    "At the beginning, it is a good approach to do a coarse random search across a wide range of values to find promising sub-ranges of your parameter space. Afterwards, you can zoom into these ranges and perform another random search (or grid search) to finetune the configurations.\n",
    "\n",
    "To save time and resources, don't use the whole dataset at the beginning, but instead a medium large subset of the samples. Also, you don't have to train for a large number of epochs - as mentioned above: we first want to get an overview about our hyper parameters.\n",
    "\n",
    "<div class=\"alert alert-info\">\n",
    "    <h3>Task: Hyperparameters Tunning & Model Training </h3>\n",
    "        <p> Now, it is your turn to do the hyperparamater tuning. In the cell below, you can use the <code>random_search</code> function to find a good choice of parameters. Put in some reasonable ranges for the hyperparameters and evaluate them.\n",
    "    <p> <b>Note:</b> At the beginning, it's a good approach to first do a coarse random search across a <b> wide range of values</b> to find promising sub-ranges of your parameter space and use <b> a medium large subset of the dataset </b>. Afterwards, you can zoom into these ranges and do another random search (or grid search) to finetune the configurations. Use the cell below to play around and find good hyperparameters for your model!</p>\n",
    "        <p> Finally, once you've found some promising hyperparameters (or narrowed them down to promising subranges), it's time to utilize these hyperparameters to train your network on the whole dataset for a large number of epochs so that your own model can reach an acceptable performance. \n",
    "        <p> <b>Hint 1:</b> You may use a <code>Solver</code> class we provided before or directly use the <code>random_search</code> function (as you can also monitor the loss here) for model training.\n",
    "        <p> <b>Hint 2:</b> Be patience, this will time.\n",
    "        <p> <b>Hint 3:</b> It is a better practice to find good set of hyperparameters on the small datasets, and only then run a full training session on the full dataset, either with specifc hyperparameters that you've found in the <code>random search</code>, or better ranges.\n",
    "</div>"
   ]
  },
  {
   "cell_type": "code",
   "execution_count": 65,
   "metadata": {
    "colab": {
     "background_save": true
    },
    "id": "g2C24gzzN5eq",
    "outputId": "f9a7ca76-0471-44bc-dbb7-ac7f5d14e581"
   },
   "outputs": [
    {
     "name": "stdout",
     "output_type": "stream",
     "text": [
      "\n",
      "Evaluating Config #1 [of 1]:\n",
      " {'learning_rate': 0.00030000000000000014, 'reg': 6.500000000000002e-06, 'hidden_size': 512, 'activation': <class 'exercise_code.networks.layer.LeakyRelu'>, 'loss_func': <class 'exercise_code.networks.loss.CrossEntropyFromLogits'>, 'optimizer': <class 'exercise_code.networks.optimizer.Adam'>, 'num_layer': 2}\n",
      "(Epoch 1 / 20) train loss: 1.843670; val loss: 1.617880\n",
      "(Epoch 2 / 20) train loss: 1.591693; val loss: 1.530174\n",
      "(Epoch 3 / 20) train loss: 1.487479; val loss: 1.465945\n",
      "(Epoch 4 / 20) train loss: 1.409475; val loss: 1.443542\n",
      "(Epoch 5 / 20) train loss: 1.341206; val loss: 1.422585\n",
      "(Epoch 6 / 20) train loss: 1.289218; val loss: 1.327087\n",
      "(Epoch 7 / 20) train loss: 1.232549; val loss: 1.292938\n",
      "(Epoch 8 / 20) train loss: 1.181297; val loss: 1.354394\n",
      "(Epoch 9 / 20) train loss: 1.131617; val loss: 1.338731\n",
      "(Epoch 10 / 20) train loss: 1.087563; val loss: 1.322787\n",
      "(Epoch 11 / 20) train loss: 1.037954; val loss: 1.328225\n",
      "(Epoch 12 / 20) train loss: 0.992201; val loss: 1.323584\n",
      "Stopping early at epoch 11!\n",
      "\n",
      "Search done. Best Val Loss = 1.2929381744642128\n",
      "Best Config: {'learning_rate': 0.00030000000000000014, 'reg': 6.500000000000002e-06, 'hidden_size': 512, 'activation': <class 'exercise_code.networks.layer.LeakyRelu'>, 'loss_func': <class 'exercise_code.networks.loss.CrossEntropyFromLogits'>, 'optimizer': <class 'exercise_code.networks.optimizer.Adam'>, 'num_layer': 2}\n"
     ]
    }
   ],
   "source": [
    "from exercise_code.networks import MyOwnNetwork, ClassificationNet\n",
    "\n",
    "\n",
    "model_type = ClassificationNet\n",
    "#model_type = MyOwnNetwork\n",
    "\n",
    "########################################################################\n",
    "# TODO:                                                                #\n",
    "# Implement your own neural network and find suitable hyperparameters  #\n",
    "# Be sure to edit the MyOwnNetwork class in the following code snippet #\n",
    "# to upload the correct model! Or just use the given                   #\n",
    "# \"ClassificationNet\".                                                 #\n",
    "#                                                                      #\n",
    "# Note: the pickling cell expects your model to be named \"best_model\". #\n",
    "# Unless you change it there, naming the best model in any other way   #\n",
    "# will result in an unknown behavior.                                  #\n",
    "########################################################################\n",
    "#train_small\n",
    "#train_overfit_10samples\n",
    "#train_overfit_single_image\n",
    "best_model, best_config, results  = random_search(\n",
    "    dataloaders['train'], dataloaders['val_500files'],\n",
    "    random_search_spaces = {\n",
    "        \"learning_rate\": ([3e-4], 'log'),\n",
    "        \"reg\": ([6.5e-6], \"log\"),\n",
    "        \"hidden_size\":([512],\"int\"),\n",
    "        \"activation\": ([LeakyRelu], \"item\"),\n",
    "        \"loss_func\": ([CrossEntropyFromLogits], \"item\"),\n",
    "        \"optimizer\":([Adam], \"item\"),\n",
    "        \"num_layer\":([2], \"int\")\n",
    "        \n",
    "    },\n",
    "    model_class=model_class, num_search = 1, epochs=20, patience=5)\n",
    "#learning_rate': 0.005567573290438473, 'reg': 1.7957598747263213e-07, one image\n",
    "#learning_rate': 0.004217861455263119, 'reg': 1.5249769633681861e-06, 10 image\n",
    "#learning_rate: 0.004411121230778929, 'reg': 2.880474272811709e-07  one image\n",
    "#learning_rate': 0.005469098143212719, 'reg': 7.897929440565143e-07 10 image\n",
    "#learning_rate: 0.006426944281207959, 'reg': 1.9793043555638715e-05\n",
    "#learning_rate': 0.005365091549316856, 'reg': 4.062524705847893e-06\n",
    "#'learning_rate': 0.0009824911944163411, 'reg': 0.0007543116039628138\n",
    "#'learning_rate': 0.0007454717596595276, 'reg': 2.8256067198076674e-05,\n",
    "#learning_rate': 0.00024706520563682303, 'reg': 6.6010845617104036e-06\n",
    "#'learning_rate': 0.00036436068091025346, 'reg': 6.530106333334132e-06\n",
    "pass\n",
    "\n",
    "########################################################################\n",
    "#                           END OF YOUR CODE                           #\n",
    "########################################################################"
   ]
  },
  {
   "cell_type": "markdown",
   "metadata": {
    "id": "gmZbWaaIN5er"
   },
   "source": [
    "Now it's time to edit the ranges above and adjust them to explore regions that performed well!\n",
    "\n",
    "Also, feel free to experiment around. Other hyperparameters you can change are the network architecture, optimizer, activations functions and many more.\n",
    "\n",
    "Try to get an accuracy as high as possible, since that's all what counts for this submission!\n",
    "\n",
    "You'll pass if you reach at least **48%** accuracy on our test set - but there will also be a leaderboard of all students of this course. Can you make it to the top?"
   ]
  },
  {
   "cell_type": "markdown",
   "metadata": {
    "id": "mJZ7UXHeN5er"
   },
   "source": [
    "## 3.5 Checking the validation accuracy"
   ]
  },
  {
   "cell_type": "code",
   "execution_count": 66,
   "metadata": {
    "colab": {
     "background_save": true
    },
    "id": "qPyHczNJN5er",
    "outputId": "7cbc0fbb-2d6e-49a1-d518-83e2260ea339"
   },
   "outputs": [
    {
     "name": "stdout",
     "output_type": "stream",
     "text": [
      "Train Accuracy: \u001b[92m68.75\u001b[0m%\n",
      "Validation Accuracy: \u001b[92m51.06169871794872\u001b[0m%\n"
     ]
    }
   ],
   "source": [
    "from exercise_code.tests.base_tests import bcolors\n",
    "\n",
    "labels, pred, acc = best_model.get_dataset_prediction(dataloaders['train'])\n",
    "res = bcolors.colorize(\"green\", acc * 100) if acc * 100 > 48 else bcolors.colorize(\"red\", acc * 100)\n",
    "print(\"Train Accuracy: {}%\".format(res))\n",
    "labels, pred, acc = best_model.get_dataset_prediction(dataloaders['val'])\n",
    "res = bcolors.colorize(\"green\", acc * 100) if acc * 100 > 48 else bcolors.colorize(\"red\", acc * 100)\n",
    "print(\"Validation Accuracy: {}%\".format(res))"
   ]
  },
  {
   "cell_type": "markdown",
   "metadata": {
    "id": "MQ_AGtp8N5er"
   },
   "source": [
    "# 4. Test your model\n",
    "When you have finished the hyperparameter tuning and you found your final model which performs well on the validation set (**you should at least get 48% accuracy on the validation set!**), it's time to run your model on the test set.\n",
    "\n",
    "<div class=\"alert alert-danger\">\n",
    "    <h3>Important</h3>\n",
    "    <p>As you have learned in the lecture, you must only use the test set once! So only run the next cell if you are completely sure that your model works well enough and that you are ready to submit. Your test set is different from the test set on our server, so results may vary a bit. Nevertheless, you will get a reasonable approximation of your model's performance if you perform the final evaluation on the test set only once.</p>\n",
    "    <p>If you are an external student that can't use our submission webpage: this test performance is your final result and if you surpassed the threshold, you have completed this exercise :). Now, train again to aim for a better number!</p>\n",
    "</div>"
   ]
  },
  {
   "cell_type": "code",
   "execution_count": 67,
   "metadata": {
    "colab": {
     "background_save": true
    },
    "id": "xJ2lwiVUN5er",
    "outputId": "82f45e2a-7357-4444-d8c7-2296b7f6cb68"
   },
   "outputs": [
    {
     "name": "stdout",
     "output_type": "stream",
     "text": [
      "Test Accuracy: \u001b[92m51.00160256410257\u001b[0m%\n"
     ]
    }
   ],
   "source": [
    "# comment this part out to see your model's performance on the test set.\n",
    "labels, pred, acc = best_model.get_dataset_prediction(dataloaders['test'])\n",
    "res = bcolors.colorize(\"green\", acc * 100) if acc * 100 > 48 else bcolors.colorize(\"red\", acc * 100)\n",
    "print(\"Test Accuracy: {}%\".format(res))\n"
   ]
  },
  {
   "cell_type": "markdown",
   "metadata": {
    "id": "K3MBnG7qN5er"
   },
   "source": [
    "<div class=\"alert alert-warning\">\n",
    "    <h3>Note:</h3>\n",
    "    <p>The \"real\" test set is actually the dataset we're using for testing your model, which is <b>different</b> from the test-set you're using here.</p>\n",
    "</div>"
   ]
  },
  {
   "cell_type": "markdown",
   "metadata": {
    "id": "2lOy_GulN5es"
   },
   "source": [
    "# 5. Saving your Model"
   ]
  },
  {
   "cell_type": "code",
   "execution_count": 68,
   "metadata": {},
   "outputs": [],
   "source": [
    "from exercise_code.networks import MyOwnNetwork, ClassificationNet\n",
    "from exercise_code.networks.layer import (\n",
    "    Sigmoid, \n",
    "    Relu, \n",
    "    LeakyRelu, \n",
    "    Tanh,\n",
    ")"
   ]
  },
  {
   "cell_type": "code",
   "execution_count": 69,
   "metadata": {
    "colab": {
     "background_save": true
    },
    "id": "icgNMAlEN5es"
   },
   "outputs": [],
   "source": [
    "from exercise_code.tests import save_pickle\n",
    "best_model.eval()\n",
    "save_pickle({\"cifar_fcn\": best_model}, \"cifar_fcn.p\")"
   ]
  },
  {
   "cell_type": "code",
   "execution_count": 70,
   "metadata": {
    "colab": {
     "background_save": true
    },
    "id": "Gd4TchGlN5es",
    "outputId": "b913c1bd-b861-47bb-c257-b30fa214e761"
   },
   "outputs": [
    {
     "name": "stdout",
     "output_type": "stream",
     "text": [
      "relevant folders: ['exercise_code', 'models']\n",
      "notebooks files: ['1_cifar10_classification.ipynb']\n",
      "Adding folder exercise_code\n",
      "Adding folder models\n",
      "Adding notebook 1_cifar10_classification.ipynb\n",
      "Zipping successful! Zip is stored under: C:\\Users\\liyan\\i2dl\\output\\exercise_06.zip\n"
     ]
    }
   ],
   "source": [
    "from exercise_code.submit import submit_exercise\n",
    "\n",
    "submit_exercise('../output/exercise_06')"
   ]
  },
  {
   "cell_type": "markdown",
   "metadata": {
    "id": "q5C_bKa5N5es"
   },
   "source": [
    "# 6. Submission Instructions\n",
    "\n",
    "Congratulations! You've just built your first image classifier! To complete the exercise, submit your final model to our submission portal - you probably know the procedure by now.\n",
    "\n",
    "1. Go on [our submission page](https://i2dl.vc.in.tum.de/submission/), register for an account and login. We use your matriculation number and send you an email with the login details to the associated mail account. When in doubt, login into tum-online and check your mails there. You will get an id which we'll need in the next step.\n",
    "2. Log into [our submission page](https://i2dl.vc.in.tum.de/submission/), with your account details and upload the zip file.\n",
    "3. Your submission will be evaluated by our system and you will get feedback about the performance of it. You will get an email with your score, as well as a message if you have surpassed the threshold or not.\n",
    "4. Within the working period, you can submit as many solutions as you want to get the best possible score.\n",
    "\n",
    "\n",
    "# 7. Submission Goals\n",
    "\n",
    "- Goal: Successfully implement a fully connected NN image classifier and tune the hyperparameters.\n",
    "\n",
    "- Passing Criteria: This time, there are no unit tests checking specific components of your code. To  pass the submission your model needs to reach at least **48% accuracy** on __our__ test dataset. The submission system will show you a number between 0 and 100 which corresponds to your accuracy.\n",
    "\n",
    "- Submission start: __November 23rd, 2023 10:00__\n",
    "- Submission deadline : __November 29th, 2023 15:59__ \n",
    "- You can make **$\\infty$** submissions until the deadline. Your __best submission__ will be considered for the bonus."
   ]
  }
 ],
 "metadata": {
  "colab": {
   "collapsed_sections": [
    "WKNRU4BWN5eg",
    "3MhxqP2LN5ej",
    "dbFSP4z9N5ek",
    "0TE2PxMBN5ek",
    "QUFotyERN5ek",
    "l0pZa4weN5eo",
    "rDyeiAN1N5ep",
    "DCaACnn3N5eq",
    "P8wWTovfN5eq",
    "mJZ7UXHeN5er"
   ],
   "name": "1.cifar10_classification.ipynb",
   "provenance": []
  },
  "kernelspec": {
   "display_name": "Python 3 (ipykernel)",
   "language": "python",
   "name": "python3"
  },
  "language_info": {
   "codemirror_mode": {
    "name": "ipython",
    "version": 3
   },
   "file_extension": ".py",
   "mimetype": "text/x-python",
   "name": "python",
   "nbconvert_exporter": "python",
   "pygments_lexer": "ipython3",
   "version": "3.10.13"
  },
  "vscode": {
   "interpreter": {
    "hash": "54970da6898dad277dbf355945c2dee7f942d2a31ec1fc1455b6d4f552d07b83"
   }
  }
 },
 "nbformat": 4,
 "nbformat_minor": 4
}
